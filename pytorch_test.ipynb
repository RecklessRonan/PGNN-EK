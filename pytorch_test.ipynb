{
 "metadata": {
  "language_info": {
   "codemirror_mode": {
    "name": "ipython",
    "version": 3
   },
   "file_extension": ".py",
   "mimetype": "text/x-python",
   "name": "python",
   "nbconvert_exporter": "python",
   "pygments_lexer": "ipython3",
   "version": "3.6.9"
  },
  "orig_nbformat": 4,
  "kernelspec": {
   "name": "python3",
   "display_name": "Python 3.6.9 64-bit"
  },
  "interpreter": {
   "hash": "31f2aee4e71d21fbe5cf8b01ff0e069b9275f58929596ceb00d14d90e3e16cd6"
  }
 },
 "nbformat": 4,
 "nbformat_minor": 2,
 "cells": [
  {
   "cell_type": "code",
   "execution_count": 1,
   "source": [
    "import torch"
   ],
   "outputs": [],
   "metadata": {}
  },
  {
   "cell_type": "code",
   "execution_count": 3,
   "source": [
    "a = torch.randn(2, 5, 4)\n",
    "print(a)"
   ],
   "outputs": [
    {
     "output_type": "stream",
     "name": "stdout",
     "text": [
      "tensor([[[ 0.6022, -1.0035,  0.0287, -0.4071],\n",
      "         [-1.9933, -1.3943,  2.0388,  1.8566],\n",
      "         [ 0.3161,  0.8706,  1.2285,  0.5301],\n",
      "         [-0.5484,  1.0004, -1.0569, -0.4895],\n",
      "         [-0.8551, -0.0047, -0.7638,  1.1068]],\n",
      "\n",
      "        [[ 1.2396, -0.3259, -0.7993,  0.2577],\n",
      "         [-0.9632, -0.7329,  1.0872, -0.5243],\n",
      "         [-0.3631, -1.9192, -0.5292, -0.4602],\n",
      "         [-0.8766,  1.1034, -1.5836, -0.2817],\n",
      "         [ 0.1851, -1.2992, -1.1487, -0.5477]]])\n"
     ]
    }
   ],
   "metadata": {}
  },
  {
   "cell_type": "code",
   "execution_count": 4,
   "source": [
    "b = torch.argmax(a, dim=-1)\n",
    "print(b)"
   ],
   "outputs": [
    {
     "output_type": "stream",
     "name": "stdout",
     "text": [
      "tensor([[0, 2, 2, 1, 3],\n",
      "        [0, 2, 0, 1, 0]])\n"
     ]
    }
   ],
   "metadata": {}
  },
  {
   "cell_type": "code",
   "execution_count": 5,
   "source": [
    "print(b.shape)"
   ],
   "outputs": [
    {
     "output_type": "stream",
     "name": "stdout",
     "text": [
      "torch.Size([2, 5])\n"
     ]
    }
   ],
   "metadata": {}
  },
  {
   "cell_type": "code",
   "execution_count": 7,
   "source": [
    "c = torch.randint(0, 5, (2, 5))\n",
    "print(c)\n"
   ],
   "outputs": [
    {
     "output_type": "stream",
     "name": "stdout",
     "text": [
      "tensor([[3, 1, 4, 0, 1],\n",
      "        [0, 0, 3, 4, 4]])\n"
     ]
    }
   ],
   "metadata": {}
  },
  {
   "cell_type": "code",
   "execution_count": 9,
   "source": [
    "from ignite.metrics.nlp import Bleu\n",
    "m = Bleu(ngram=4, smooth=\"smooth1\")\n",
    "m.update((b, c))\n",
    "print(m.compute())"
   ],
   "outputs": [
    {
     "output_type": "stream",
     "name": "stdout",
     "text": [
      "tensor(0., dtype=torch.float64)\n"
     ]
    }
   ],
   "metadata": {}
  },
  {
   "cell_type": "code",
   "execution_count": 11,
   "source": [
    "d = torch.tensor(\n",
    "    [[3, 1, 4, 0, 1],\n",
    "    [0, 0, 3, 4, 4]],\n",
    "    dtype=torch.long\n",
    ")"
   ],
   "outputs": [],
   "metadata": {}
  },
  {
   "cell_type": "code",
   "execution_count": 12,
   "source": [
    "m1 = Bleu(ngram=4, smooth=\"smooth1\")\n",
    "m1.update((c, d))\n",
    "print(m1.compute())"
   ],
   "outputs": [
    {
     "output_type": "stream",
     "name": "stdout",
     "text": [
      "tensor(0., dtype=torch.float64)\n"
     ]
    }
   ],
   "metadata": {}
  },
  {
   "cell_type": "code",
   "execution_count": 13,
   "source": [
    "print(c)"
   ],
   "outputs": [
    {
     "output_type": "stream",
     "name": "stdout",
     "text": [
      "tensor([[3, 1, 4, 0, 1],\n",
      "        [0, 0, 3, 4, 4]])\n"
     ]
    }
   ],
   "metadata": {}
  },
  {
   "cell_type": "code",
   "execution_count": 14,
   "source": [
    "print(d)"
   ],
   "outputs": [
    {
     "output_type": "stream",
     "name": "stdout",
     "text": [
      "tensor([[3, 1, 4, 0, 1],\n",
      "        [0, 0, 3, 4, 4]])\n"
     ]
    }
   ],
   "metadata": {}
  },
  {
   "cell_type": "code",
   "execution_count": 17,
   "source": [
    "m = Bleu(ngram=4, smooth=\"smooth1\")\n",
    "\n",
    "y_pred = \"the the the the the the the\"\n",
    "y = \"the cat is on the mat\"\n",
    "\n",
    "m.update((y_pred.split(), [y.split()]))\n",
    "\n",
    "print(m.compute())"
   ],
   "outputs": [
    {
     "output_type": "stream",
     "name": "stdout",
     "text": [
      "tensor(0.0393, dtype=torch.float64)\n"
     ]
    }
   ],
   "metadata": {}
  },
  {
   "cell_type": "code",
   "execution_count": 1,
   "source": [
    "import torch \n",
    "from torch_geometric.data import Data, DataLoader"
   ],
   "outputs": [],
   "metadata": {}
  },
  {
   "cell_type": "code",
   "execution_count": 2,
   "source": [
    "x1 = torch.randn(5, 16)\n",
    "edge1 = torch.tensor([[0, 0, 0, 0], [1, 2, 3, 4]])\n",
    "attr1 = torch.rand(4)\n",
    "x2 = torch.rand(4, 16)\n",
    "edge2 = torch.tensor([[0, 0 ,0], [1, 2, 3]])\n",
    "attr2 = torch.rand(3)\n",
    "data1 = Data(x=x1, edge_index=edge1, edge_attr=attr1)\n",
    "data2 = Data(x=x2, edge_index=edge2, edge_attr=attr2)\n",
    "data = [data1, data2]"
   ],
   "outputs": [],
   "metadata": {}
  },
  {
   "cell_type": "code",
   "execution_count": 3,
   "source": [
    "loader = DataLoader(data, batch_size=2)"
   ],
   "outputs": [],
   "metadata": {}
  },
  {
   "cell_type": "code",
   "execution_count": 4,
   "source": [
    "batch = next(iter(loader))\n",
    "batch"
   ],
   "outputs": [
    {
     "output_type": "execute_result",
     "data": {
      "text/plain": [
       "Batch(batch=[9], edge_attr=[7], edge_index=[2, 7], ptr=[3], x=[9, 16])"
      ]
     },
     "metadata": {},
     "execution_count": 4
    }
   ],
   "metadata": {}
  },
  {
   "cell_type": "code",
   "execution_count": 5,
   "source": [
    "batch.batch"
   ],
   "outputs": [
    {
     "output_type": "execute_result",
     "data": {
      "text/plain": [
       "tensor([0, 0, 0, 0, 0, 1, 1, 1, 1])"
      ]
     },
     "metadata": {},
     "execution_count": 5
    }
   ],
   "metadata": {}
  },
  {
   "cell_type": "code",
   "execution_count": 6,
   "source": [
    "batch.edge_index"
   ],
   "outputs": [
    {
     "output_type": "execute_result",
     "data": {
      "text/plain": [
       "tensor([[0, 0, 0, 0, 5, 5, 5],\n",
       "        [1, 2, 3, 4, 6, 7, 8]])"
      ]
     },
     "metadata": {},
     "execution_count": 6
    }
   ],
   "metadata": {}
  },
  {
   "cell_type": "code",
   "execution_count": 7,
   "source": [
    "batch.ptr"
   ],
   "outputs": [
    {
     "output_type": "execute_result",
     "data": {
      "text/plain": [
       "tensor([0, 5, 9])"
      ]
     },
     "metadata": {},
     "execution_count": 7
    }
   ],
   "metadata": {}
  },
  {
   "cell_type": "code",
   "execution_count": 8,
   "source": [
    "divide_node_num = 2"
   ],
   "outputs": [],
   "metadata": {}
  },
  {
   "cell_type": "code",
   "execution_count": 9,
   "source": [
    "def get_subgraph_info_from_batch(batch):\n",
    "    comp = 0\n",
    "    pos = 0\n",
    "    graph_pos_in_batch = [0] # record begin positions and end positions of every subgraph\n",
    "    graph_length = [] # use a list to store the node nums in subgraph\n",
    "    for i in range(len(batch)):\n",
    "        if batch[i] != comp:\n",
    "            graph_pos_in_batch.append(i)\n",
    "            graph_length.append(i-pos)\n",
    "            comp = batch[i]\n",
    "            pos = i\n",
    "    graph_length.append(len(batch)-pos)\n",
    "    return graph_pos_in_batch, graph_length"
   ],
   "outputs": [],
   "metadata": {}
  },
  {
   "cell_type": "code",
   "execution_count": 10,
   "source": [
    "def partition_graph(x, edge_index, edge_attr, batch):        \n",
    "    nodes_list = [] # record all nodes number for each subgraph in total batch\n",
    "    graph_pos_in_batch, graph_length = get_subgraph_info_from_batch(batch)\n",
    "    max_seq_len = max(graph_length)\n",
    "    subgraph_num = int(max_seq_len/divide_node_num) + 1\n",
    "    for i in range(subgraph_num):\n",
    "        nodes = []\n",
    "        for j in range(len(graph_pos_in_batch)):\n",
    "            if graph_length[j] > i * divide_node_num:\n",
    "                if graph_length[j] > (i+1) * divide_node_num:\n",
    "                    subgraph_len = divide_node_num\n",
    "                else:\n",
    "                    subgraph_len = graph_length[j] - i * divide_node_num   \n",
    "                for m in range(subgraph_len):\n",
    "                    nodes.append(graph_pos_in_batch[j] + m)          \n",
    "        nodes_list.append(set(nodes)) \n",
    "    # only count the edge whose target node in subgraph\n",
    "    sub_edge_src = [[] for _ in range(subgraph_num)]\n",
    "    sub_edge_tgt = [[] for _ in range(subgraph_num)]\n",
    "    sub_edge_attr = [[] for _ in range(subgraph_num)]\n",
    "    # print('nodes_list', nodes_list)\n",
    "    node_num = len(x)\n",
    "    node_subgraph_index = [0 for _ in range(node_num)] # use a list to store the subgraph numbers for all nodes\n",
    "    for i in range(len(nodes_list)):\n",
    "        for node in nodes_list[i]:\n",
    "            node_subgraph_index[node] = i\n",
    "\n",
    "    for i in range(len(edge_index[1])):\n",
    "        src = edge_index[0][i].item()\n",
    "        tgt = edge_index[1][i].item()\n",
    "        sub_edge_src[node_subgraph_index[tgt]].append(src)\n",
    "        sub_edge_tgt[node_subgraph_index[tgt]].append(tgt)\n",
    "        sub_edge_attr[node_subgraph_index[tgt]].append(edge_attr[i].item())\n",
    "    edge_index_list = []\n",
    "    edge_attr_list = []\n",
    "    for i in range(subgraph_num):\n",
    "        edge_index_list.append(torch.tensor([sub_edge_src[i], sub_edge_tgt[i]], dtype=torch.long))\n",
    "        edge_attr_list.append(torch.tensor(sub_edge_attr[i], dtype=torch.long))\n",
    "    return edge_index_list, edge_attr_list"
   ],
   "outputs": [],
   "metadata": {}
  },
  {
   "cell_type": "code",
   "execution_count": 11,
   "source": [
    "edge_index_list, edge_attr_list = partition_graph(batch.x, batch.edge_index, batch.edge_attr, batch.batch)"
   ],
   "outputs": [],
   "metadata": {}
  },
  {
   "cell_type": "code",
   "execution_count": 12,
   "source": [
    "edge_index_list"
   ],
   "outputs": [
    {
     "output_type": "execute_result",
     "data": {
      "text/plain": [
       "[tensor([[0, 0, 0, 5, 5],\n",
       "         [2, 3, 4, 7, 8]]),\n",
       " tensor([[0, 5],\n",
       "         [1, 6]]),\n",
       " tensor([], size=(2, 0), dtype=torch.int64)]"
      ]
     },
     "metadata": {},
     "execution_count": 12
    }
   ],
   "metadata": {}
  },
  {
   "cell_type": "code",
   "execution_count": 13,
   "source": [
    "edge_attr_list"
   ],
   "outputs": [
    {
     "output_type": "execute_result",
     "data": {
      "text/plain": [
       "[tensor([0, 0, 0, 0, 0]), tensor([0, 0]), tensor([], dtype=torch.int64)]"
      ]
     },
     "metadata": {},
     "execution_count": 13
    }
   ],
   "metadata": {}
  },
  {
   "cell_type": "code",
   "execution_count": null,
   "source": [],
   "outputs": [],
   "metadata": {}
  }
 ]
}