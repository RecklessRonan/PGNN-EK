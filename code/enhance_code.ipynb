{
 "cells": [
  {
   "cell_type": "code",
   "execution_count": null,
   "source": [
    "import pandas as pd \n",
    "import javalang\n",
    "from javalang.ast import Node\n",
    "from tqdm import tqdm"
   ],
   "outputs": [],
   "metadata": {}
  },
  {
   "cell_type": "code",
   "execution_count": null,
   "source": [
    "java_api_url = '/data/code/represent-code-in-human/data/java_api.csv'\n",
    "java_api = pd.read_csv(java_api_url, header=0, encoding='utf-8')\n",
    "java_api['index_name'] = java_api['index_name'].apply(str)\n",
    "java_api "
   ],
   "outputs": [],
   "metadata": {}
  },
  {
   "cell_type": "code",
   "execution_count": null,
   "source": [
    "# use javalang to generate ASTs and depth-first traverse to generate ast nodes corpus\n",
    "def get_token(node):\n",
    "    token = ''\n",
    "    if isinstance(node, str):\n",
    "        token = node\n",
    "    elif isinstance(node, set):\n",
    "        token = 'Modifier'\n",
    "    elif isinstance(node, Node):\n",
    "        token = node.__class__.__name__\n",
    "    return token\n",
    "\n",
    "\n",
    "def get_child(root):\n",
    "    if isinstance(root, Node):\n",
    "        children = root.children\n",
    "    elif isinstance(root, set):\n",
    "        children = list(root)\n",
    "    else:\n",
    "        children = []\n",
    "\n",
    "    def expand(nested_list):\n",
    "        for item in nested_list:\n",
    "            if isinstance(item, list):\n",
    "                yield from expand(item)\n",
    "            elif item:\n",
    "                yield item\n",
    "\n",
    "    return list(expand(children))\n",
    "\n",
    "\n",
    "def get_sequence(node, sequence, api_sequence):\n",
    "    token, children = get_token(node), get_child(node)\n",
    "    sequence.append(token)\n",
    "    if token == 'MethodInvocation':\n",
    "        api = [get_token(child) for child in children if not get_child(child)]\n",
    "        # api_sequence.append(' '.join(api))\n",
    "        if len(api) > 1:\n",
    "            api_sequence.append(api[-1])\n",
    "    for child in children:\n",
    "        get_sequence(child, sequence, api_sequence)\n",
    "\n",
    "\n",
    "def parse_program(func):\n",
    "    tokens = javalang.tokenizer.tokenize(func)\n",
    "    parser = javalang.parser.Parser(tokens)\n",
    "    return parser.parse_member_declaration()    "
   ],
   "outputs": [],
   "metadata": {}
  },
  {
   "cell_type": "code",
   "execution_count": null,
   "source": [
    "def api_match(api_sequence, java_api):\n",
    "    description_sequence = []\n",
    "    for api in api_sequence:\n",
    "        loc = java_api.loc[java_api['index_name'].str.contains(api, case=True)]\n",
    "        if not loc.empty:\n",
    "            description = loc['method_description'].iloc[0]\n",
    "            if description != 'None':\n",
    "                description_sequence.append(description)\n",
    "    return description_sequence"
   ],
   "outputs": [],
   "metadata": {}
  },
  {
   "cell_type": "markdown",
   "source": [
    "Code Clone Detection"
   ],
   "metadata": {}
  },
  {
   "cell_type": "code",
   "execution_count": null,
   "source": [
    "raw_code_url = '/data/dataset/CodeXGLUE/Code-Code/Clone-detection-BigCloneBench/dataset/data.jsonl'\n",
    "raw_code = pd.read_json(path_or_buf=raw_code_url, lines=True)"
   ],
   "outputs": [],
   "metadata": {}
  },
  {
   "cell_type": "code",
   "execution_count": null,
   "source": [
    "raw_code"
   ],
   "outputs": [],
   "metadata": {}
  },
  {
   "cell_type": "code",
   "execution_count": null,
   "source": [
    "raw_code['func'][1]"
   ],
   "outputs": [],
   "metadata": {}
  },
  {
   "cell_type": "code",
   "execution_count": null,
   "source": [
    "from tqdm import tqdm\n",
    "\n",
    "ast_sequence = []\n",
    "description_sequence = []\n",
    "for i in tqdm(range(len(raw_code))):\n",
    "    sequence = []\n",
    "    api_sequence = []    \n",
    "    get_sequence(parse_program(raw_code['func'][i]), sequence, api_sequence)\n",
    "    ast_sequence.append(' '.join(sequence))     \n",
    "    api_sequence = list(set(api_sequence)) \n",
    "    # print('api_sequence', api_sequence)\n",
    "    description = '\\n'.join(api_match(api_sequence, java_api))\n",
    "    # print('description', description)   \n",
    "    description_sequence.append(description)        "
   ],
   "outputs": [],
   "metadata": {}
  },
  {
   "cell_type": "code",
   "execution_count": null,
   "source": [
    "raw_code['ast'] = ast_sequence\n",
    "raw_code['des'] = description_sequence\n",
    "raw_code['ast_des'] = raw_code['ast'] + ' ' + raw_code['des']"
   ],
   "outputs": [],
   "metadata": {}
  },
  {
   "cell_type": "code",
   "execution_count": null,
   "source": [
    "raw_code"
   ],
   "outputs": [],
   "metadata": {}
  },
  {
   "cell_type": "code",
   "execution_count": null,
   "source": [
    "raw_code.to_json(path_or_buf='/data/dataset/CodeXGLUE/Code-Code/Clone-detection-BigCloneBench/dataset/data_enhanced.jsonl', orient='records', lines=True)"
   ],
   "outputs": [],
   "metadata": {}
  },
  {
   "cell_type": "markdown",
   "source": [
    "Code Summarization"
   ],
   "metadata": {}
  },
  {
   "cell_type": "code",
   "execution_count": null,
   "source": [
    "TRAIN_DIR = '/data/code/represent-code-in-human/data/code-summarization-new/train.jsonl'\n",
    "VALID_DIR = '/data/code/represent-code-in-human/data/code-summarization-new/valid.jsonl'\n",
    "TEST_DIR = '/data/code/represent-code-in-human/data/code-summarization-new/test.jsonl'"
   ],
   "outputs": [],
   "metadata": {}
  },
  {
   "cell_type": "code",
   "execution_count": null,
   "source": [
    "# read dataset\n",
    "train_data = pd.read_json(path_or_buf=TRAIN_DIR, lines=True)\n",
    "valid_data = pd.read_json(path_or_buf=VALID_DIR, lines=True)\n",
    "test_data = pd.read_json(path_or_buf=TEST_DIR, lines=True)"
   ],
   "outputs": [],
   "metadata": {}
  },
  {
   "cell_type": "code",
   "execution_count": null,
   "source": [
    "train_data = train_data.sample(random_state=555, frac=1)\n",
    "valid_data = valid_data.sample(random_state=555, frac=1)\n",
    "test_data = test_data.sample(random_state=555, frac=1)"
   ],
   "outputs": [],
   "metadata": {}
  },
  {
   "cell_type": "code",
   "execution_count": null,
   "source": [
    "train_data"
   ],
   "outputs": [],
   "metadata": {}
  },
  {
   "cell_type": "code",
   "execution_count": null,
   "source": [
    "def get_ast_and_description(data):\n",
    "    description_sequence = []\n",
    "    ast_sequence = []\n",
    "    ast_sum = 0\n",
    "    description_sum = 0\n",
    "    data_size = len(data)\n",
    "    for i in tqdm(range(data_size)):\n",
    "        sequence = []\n",
    "        api_sequence = []    \n",
    "        get_sequence(parse_program(data['code'].iloc[i]), sequence, api_sequence)\n",
    "        ast = ' '.join(sequence)\n",
    "        ast_sequence.append(ast) \n",
    "        ast_sum += len(ast.split(' '))\n",
    "\n",
    "        api_sequence = list(set(api_sequence)) \n",
    "        description = ' '.join(api_match(api_sequence, java_api)) \n",
    "        description_sequence.append(description) \n",
    "        description_sum += len(description.split(' '))\n",
    "    print('ast average length', ast_sum/data_size)\n",
    "    print('description average length', description_sum/data_size)\n",
    "    return description_sequence, ast_sequence   "
   ],
   "outputs": [],
   "metadata": {}
  },
  {
   "cell_type": "code",
   "execution_count": null,
   "source": [
    "valid_description, valid_ast = get_ast_and_description(valid_data)\n",
    "test_description, test_ast = get_ast_and_description(test_data)"
   ],
   "outputs": [],
   "metadata": {}
  },
  {
   "cell_type": "code",
   "execution_count": null,
   "source": [
    "valid_data['des'] = valid_description\n",
    "valid_data['ast'] = valid_ast\n",
    "valid_data['ast_des'] = valid_data['ast'] + ' ' + valid_data['des']\n",
    "\n",
    "test_data['des'] = test_description\n",
    "test_data['ast'] = test_ast\n",
    "test_data['ast_des'] = test_data['ast'] + ' ' + test_data['des']"
   ],
   "outputs": [],
   "metadata": {}
  },
  {
   "cell_type": "code",
   "execution_count": null,
   "source": [
    "# train_data.to_json(path_or_buf='/data/code/represent-code-in-human/data/code-summarization-enhanced-middle/train.jsonl',\n",
    "#                      orient='records', lines=True)\n",
    "# valid_data.to_json(path_or_buf='/data/code/represent-code-in-human/data/code-summarization-enhanced-middle/valid.jsonl',\n",
    "#                      orient='records', lines=True)\n",
    "# test_data.to_json(path_or_buf='/data/code/represent-code-in-human/data/code-summarization-enhanced-middle/test.jsonl',\n",
    "#                      orient='records', lines=True)"
   ],
   "outputs": [],
   "metadata": {}
  },
  {
   "cell_type": "code",
   "execution_count": null,
   "source": [
    "test_data"
   ],
   "outputs": [],
   "metadata": {}
  },
  {
   "cell_type": "code",
   "execution_count": null,
   "source": [
    "valid_data.to_json(path_or_buf='/data/code/represent-code-in-human/data/code-summarization-enhanced-full/valid.jsonl',\n",
    "                     orient='records', lines=True)\n",
    "test_data.to_json(path_or_buf='/data/code/represent-code-in-human/data/code-summarization-enhanced-full/test.jsonl',\n",
    "                     orient='records', lines=True)"
   ],
   "outputs": [],
   "metadata": {}
  },
  {
   "cell_type": "code",
   "execution_count": null,
   "source": [
    "train_description, train_ast = get_ast_and_description(train_data)\n",
    "train_data['des'] = train_description\n",
    "train_data['ast'] = train_ast\n",
    "train_data['ast_des'] = train_data['ast'] + ' ' + train_data['des']\n",
    "train_data.to_json(path_or_buf='/data/code/represent-code-in-human/data/code-summarization-enhanced-full/train.jsonl',\n",
    "                     orient='records', lines=True)"
   ],
   "outputs": [],
   "metadata": {}
  },
  {
   "cell_type": "markdown",
   "source": [
    "multiprocessing test"
   ],
   "metadata": {}
  },
  {
   "cell_type": "code",
   "execution_count": null,
   "source": [
    "from multiprocessing import Process, cpu_count, Manager, Pool \n",
    "import os"
   ],
   "outputs": [],
   "metadata": {}
  },
  {
   "cell_type": "code",
   "execution_count": null,
   "source": [
    "def multi_get_ast_and_des(l, i):\n",
    "    sequence = []\n",
    "    api_sequence = []    \n",
    "    get_sequence(parse_program(train_data['code'].iloc[i]), sequence, api_sequence)\n",
    "    ast = ' '.join(sequence)\n",
    "    api_sequence = list(set(api_sequence)) \n",
    "    des = ' '.join(api_match(api_sequence, java_api)) \n",
    "    d = {'ast': ast, 'des': des, 'i': i}\n",
    "    l.append(d)\n",
    "    # print('i', i, 'ast', ast, 'des', des)\n",
    "\n"
   ],
   "outputs": [],
   "metadata": {}
  },
  {
   "cell_type": "code",
   "execution_count": null,
   "source": [
    "manager = Manager()\n",
    "data_size = len(train_data)\n",
    "l = manager.list()\n",
    "p = Pool(processes=20)\n",
    "for i in range(data_size):\n",
    "    p.apply_async(multi_get_ast_and_des, (l, i))\n",
    "p.close()\n",
    "p.join()"
   ],
   "outputs": [],
   "metadata": {}
  },
  {
   "cell_type": "code",
   "execution_count": null,
   "source": [
    "train_ast = []\n",
    "train_des = []\n",
    "train_i = []\n",
    "for d in l[:]:\n",
    "    train_ast.append(d['ast'])\n",
    "    train_des.append(d['des'])\n",
    "    train_i.append(d['i'])"
   ],
   "outputs": [],
   "metadata": {}
  },
  {
   "cell_type": "code",
   "execution_count": null,
   "source": [
    "len(train_i)"
   ],
   "outputs": [],
   "metadata": {}
  },
  {
   "cell_type": "code",
   "execution_count": null,
   "source": [
    "train_dict = {'ast': train_ast, 'des': train_des, 'i': train_i}\n",
    "train_df = pd.DataFrame.from_dict(train_dict)"
   ],
   "outputs": [],
   "metadata": {}
  },
  {
   "cell_type": "code",
   "execution_count": null,
   "source": [
    "train_df"
   ],
   "outputs": [],
   "metadata": {}
  },
  {
   "cell_type": "code",
   "execution_count": null,
   "source": [
    "train_df = train_df.sort_values(by=['i']).reset_index(drop=True)\n",
    "train_df"
   ],
   "outputs": [],
   "metadata": {}
  },
  {
   "cell_type": "code",
   "execution_count": null,
   "source": [
    "train_data['ast'] = train_df['ast'].to_list()\n",
    "train_data['des'] = train_df['des'].to_list()\n",
    "train_data['ast_des'] = train_data['ast'] + ' ' + train_data['des']\n",
    "train_data"
   ],
   "outputs": [],
   "metadata": {}
  },
  {
   "cell_type": "code",
   "execution_count": null,
   "source": [
    "train_data_backup = train_data * 1\n",
    "train_data[\"ast\"] =  train_data.ast.str.replace('[^\\x00-\\x7F]','')\n",
    "train_data[\"des\"] =  train_data.des.str.replace('[^\\x00-\\x7F]','')\n",
    "train_data[\"ast_des\"] =  train_data.ast_des.str.replace('[^\\x00-\\x7F]','')"
   ],
   "outputs": [],
   "metadata": {}
  },
  {
   "cell_type": "code",
   "execution_count": null,
   "source": [
    "train_data.to_csv(path_or_buf='/data/code/represent-code-in-human/data/code-summarization-enhanced-full/train.csv',\n",
    "                    header=0, index=False)"
   ],
   "outputs": [],
   "metadata": {}
  },
  {
   "cell_type": "code",
   "execution_count": null,
   "source": [
    "train_data.to_json(path_or_buf='/data/code/represent-code-in-human/data/code-summarization-enhanced-full/train.jsonl',\n",
    "                     orient='records', lines=True)"
   ],
   "outputs": [],
   "metadata": {}
  },
  {
   "cell_type": "code",
   "execution_count": null,
   "source": [
    "data_test = pd.read_json(path_or_buf='/data/code/represent-code-in-human/data/code-summarization-enhanced-full/test.jsonl', lines=True)\n",
    "data_test"
   ],
   "outputs": [],
   "metadata": {}
  },
  {
   "cell_type": "code",
   "execution_count": null,
   "source": [
    "train_data['code'][0: 5]"
   ],
   "outputs": [],
   "metadata": {}
  },
  {
   "cell_type": "code",
   "execution_count": null,
   "source": [
    "train_data['ast_des'][0: 5]"
   ],
   "outputs": [],
   "metadata": {}
  },
  {
   "cell_type": "code",
   "execution_count": null,
   "source": [
    "train_df['ast'][1]"
   ],
   "outputs": [],
   "metadata": {}
  },
  {
   "cell_type": "code",
   "execution_count": null,
   "source": [],
   "outputs": [],
   "metadata": {}
  }
 ],
 "metadata": {
  "interpreter": {
   "hash": "31f2aee4e71d21fbe5cf8b01ff0e069b9275f58929596ceb00d14d90e3e16cd6"
  },
  "kernelspec": {
   "name": "python3",
   "display_name": "Python 3.6.9 64-bit"
  },
  "language_info": {
   "codemirror_mode": {
    "name": "ipython",
    "version": 3
   },
   "file_extension": ".py",
   "mimetype": "text/x-python",
   "name": "python",
   "nbconvert_exporter": "python",
   "pygments_lexer": "ipython3",
   "version": "3.6.9"
  }
 },
 "nbformat": 4,
 "nbformat_minor": 2
}