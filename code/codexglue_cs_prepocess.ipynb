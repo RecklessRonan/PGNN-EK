{
 "metadata": {
  "language_info": {
   "codemirror_mode": {
    "name": "ipython",
    "version": 3
   },
   "file_extension": ".py",
   "mimetype": "text/x-python",
   "name": "python",
   "nbconvert_exporter": "python",
   "pygments_lexer": "ipython3",
   "version": "3.6.9"
  },
  "orig_nbformat": 2,
  "kernelspec": {
   "name": "python3",
   "display_name": "Python 3.6.9 64-bit"
  },
  "metadata": {
   "interpreter": {
    "hash": "31f2aee4e71d21fbe5cf8b01ff0e069b9275f58929596ceb00d14d90e3e16cd6"
   }
  },
  "interpreter": {
   "hash": "31f2aee4e71d21fbe5cf8b01ff0e069b9275f58929596ceb00d14d90e3e16cd6"
  }
 },
 "nbformat": 4,
 "nbformat_minor": 2,
 "cells": [
  {
   "cell_type": "code",
   "execution_count": 1,
   "source": [
    "import pandas as pd"
   ],
   "outputs": [],
   "metadata": {}
  },
  {
   "cell_type": "code",
   "execution_count": 2,
   "source": [
    "data_url = '../../data/code-summarization/'\n",
    "\n",
    "train_data_url = data_url + 'train.jsonl'\n",
    "valid_data_url = data_url + 'valid.jsonl'\n",
    "test_data_url = data_url + 'test.jsonl'"
   ],
   "outputs": [],
   "metadata": {}
  },
  {
   "cell_type": "code",
   "execution_count": 3,
   "source": [
    "train_data = pd.read_json(path_or_buf=train_data_url, lines=True)\n",
    "valid_data = pd.read_json(path_or_buf=valid_data_url, lines=True)\n",
    "test_data = pd.read_json(path_or_buf=test_data_url, lines=True)"
   ],
   "outputs": [],
   "metadata": {}
  },
  {
   "cell_type": "code",
   "execution_count": 4,
   "source": [
    "train_data.head(5)"
   ],
   "outputs": [
    {
     "output_type": "execute_result",
     "data": {
      "text/plain": [
       "                 repo                                               path  \\\n",
       "0         Harium/keel  src/main/java/com/harium/keel/effect/height/So...   \n",
       "1        skuzzle/jeve  jeve/src/main/java/de/skuzzle/jeve/providers/E...   \n",
       "2        skuzzle/jeve  jeve/src/main/java/de/skuzzle/jeve/stores/Abst...   \n",
       "3        skuzzle/jeve  jeve/src/main/java/de/skuzzle/jeve/stores/Abst...   \n",
       "4  vnesek/nmote-iim4j  src/main/java/com/nmote/iim4j/stream/SubIIMInp...   \n",
       "\n",
       "                                   func_name  \\\n",
       "0                                Sobel.apply   \n",
       "1                    EventStackImpl.popEvent   \n",
       "2  AbstractSynchronizedListenerSource.modify   \n",
       "3    AbstractSynchronizedListenerSource.read   \n",
       "4       SubIIMInputStream.setOffsetAndLength   \n",
       "\n",
       "                                     original_string language  \\\n",
       "0  @Override\\n    public ImageSource apply(ImageS...     java   \n",
       "1  public <L extends Listener> void popEvent(Even...     java   \n",
       "2  protected void modify(Transaction t) {\\n      ...     java   \n",
       "3  protected <E> E read(Supplier<E> sup) {\\n     ...     java   \n",
       "4  protected void setOffsetAndLength(long offset,...     java   \n",
       "\n",
       "                                                code  \\\n",
       "0  @Override\\n    public ImageSource apply(ImageS...   \n",
       "1  public <L extends Listener> void popEvent(Even...   \n",
       "2  protected void modify(Transaction t) {\\n      ...   \n",
       "3  protected <E> E read(Supplier<E> sup) {\\n     ...   \n",
       "4  protected void setOffsetAndLength(long offset,...   \n",
       "\n",
       "                                         code_tokens  \\\n",
       "0  [@, Override, public, ImageSource, apply, (, I...   \n",
       "1  [public, <, L, extends, Listener, >, void, pop...   \n",
       "2  [protected, void, modify, (, Transaction, t, )...   \n",
       "3  [protected, <, E, >, E, read, (, Supplier, <, ...   \n",
       "4  [protected, void, setOffsetAndLength, (, long,...   \n",
       "\n",
       "                                           docstring  \\\n",
       "0  Expects a height mat as input\\n\\n@param input ...   \n",
       "1  Pops the top event off the current event stack...   \n",
       "2  Executes the given transaction within the cont...   \n",
       "3  Executes the given supplier within the context...   \n",
       "4  This should be called from a subclass construc...   \n",
       "\n",
       "                                    docstring_tokens  \\\n",
       "0               [Expects, a, height, mat, as, input]   \n",
       "1  [Pops, the, top, event, off, the, current, eve...   \n",
       "2  [Executes, the, given, transaction, within, th...   \n",
       "3  [Executes, the, given, supplier, within, the, ...   \n",
       "4  [This, should, be, called, from, a, subclass, ...   \n",
       "\n",
       "                                        sha  \\\n",
       "0  0369ae674f9e664bccc5f9e161ae7e7a3b949a1e   \n",
       "1  42cc18947c9c8596c34410336e4e375e9fcd7c47   \n",
       "2  42cc18947c9c8596c34410336e4e375e9fcd7c47   \n",
       "3  42cc18947c9c8596c34410336e4e375e9fcd7c47   \n",
       "4  ec55b02fc644cd722e93051ac0bdb96b00cb42a8   \n",
       "\n",
       "                                                 url partition  \n",
       "0  https://github.com/Harium/keel/blob/0369ae674f...     train  \n",
       "1  https://github.com/skuzzle/jeve/blob/42cc18947...     train  \n",
       "2  https://github.com/skuzzle/jeve/blob/42cc18947...     train  \n",
       "3  https://github.com/skuzzle/jeve/blob/42cc18947...     train  \n",
       "4  https://github.com/vnesek/nmote-iim4j/blob/ec5...     train  "
      ],
      "text/html": [
       "<div>\n",
       "<style scoped>\n",
       "    .dataframe tbody tr th:only-of-type {\n",
       "        vertical-align: middle;\n",
       "    }\n",
       "\n",
       "    .dataframe tbody tr th {\n",
       "        vertical-align: top;\n",
       "    }\n",
       "\n",
       "    .dataframe thead th {\n",
       "        text-align: right;\n",
       "    }\n",
       "</style>\n",
       "<table border=\"1\" class=\"dataframe\">\n",
       "  <thead>\n",
       "    <tr style=\"text-align: right;\">\n",
       "      <th></th>\n",
       "      <th>repo</th>\n",
       "      <th>path</th>\n",
       "      <th>func_name</th>\n",
       "      <th>original_string</th>\n",
       "      <th>language</th>\n",
       "      <th>code</th>\n",
       "      <th>code_tokens</th>\n",
       "      <th>docstring</th>\n",
       "      <th>docstring_tokens</th>\n",
       "      <th>sha</th>\n",
       "      <th>url</th>\n",
       "      <th>partition</th>\n",
       "    </tr>\n",
       "  </thead>\n",
       "  <tbody>\n",
       "    <tr>\n",
       "      <th>0</th>\n",
       "      <td>Harium/keel</td>\n",
       "      <td>src/main/java/com/harium/keel/effect/height/So...</td>\n",
       "      <td>Sobel.apply</td>\n",
       "      <td>@Override\\n    public ImageSource apply(ImageS...</td>\n",
       "      <td>java</td>\n",
       "      <td>@Override\\n    public ImageSource apply(ImageS...</td>\n",
       "      <td>[@, Override, public, ImageSource, apply, (, I...</td>\n",
       "      <td>Expects a height mat as input\\n\\n@param input ...</td>\n",
       "      <td>[Expects, a, height, mat, as, input]</td>\n",
       "      <td>0369ae674f9e664bccc5f9e161ae7e7a3b949a1e</td>\n",
       "      <td>https://github.com/Harium/keel/blob/0369ae674f...</td>\n",
       "      <td>train</td>\n",
       "    </tr>\n",
       "    <tr>\n",
       "      <th>1</th>\n",
       "      <td>skuzzle/jeve</td>\n",
       "      <td>jeve/src/main/java/de/skuzzle/jeve/providers/E...</td>\n",
       "      <td>EventStackImpl.popEvent</td>\n",
       "      <td>public &lt;L extends Listener&gt; void popEvent(Even...</td>\n",
       "      <td>java</td>\n",
       "      <td>public &lt;L extends Listener&gt; void popEvent(Even...</td>\n",
       "      <td>[public, &lt;, L, extends, Listener, &gt;, void, pop...</td>\n",
       "      <td>Pops the top event off the current event stack...</td>\n",
       "      <td>[Pops, the, top, event, off, the, current, eve...</td>\n",
       "      <td>42cc18947c9c8596c34410336e4e375e9fcd7c47</td>\n",
       "      <td>https://github.com/skuzzle/jeve/blob/42cc18947...</td>\n",
       "      <td>train</td>\n",
       "    </tr>\n",
       "    <tr>\n",
       "      <th>2</th>\n",
       "      <td>skuzzle/jeve</td>\n",
       "      <td>jeve/src/main/java/de/skuzzle/jeve/stores/Abst...</td>\n",
       "      <td>AbstractSynchronizedListenerSource.modify</td>\n",
       "      <td>protected void modify(Transaction t) {\\n      ...</td>\n",
       "      <td>java</td>\n",
       "      <td>protected void modify(Transaction t) {\\n      ...</td>\n",
       "      <td>[protected, void, modify, (, Transaction, t, )...</td>\n",
       "      <td>Executes the given transaction within the cont...</td>\n",
       "      <td>[Executes, the, given, transaction, within, th...</td>\n",
       "      <td>42cc18947c9c8596c34410336e4e375e9fcd7c47</td>\n",
       "      <td>https://github.com/skuzzle/jeve/blob/42cc18947...</td>\n",
       "      <td>train</td>\n",
       "    </tr>\n",
       "    <tr>\n",
       "      <th>3</th>\n",
       "      <td>skuzzle/jeve</td>\n",
       "      <td>jeve/src/main/java/de/skuzzle/jeve/stores/Abst...</td>\n",
       "      <td>AbstractSynchronizedListenerSource.read</td>\n",
       "      <td>protected &lt;E&gt; E read(Supplier&lt;E&gt; sup) {\\n     ...</td>\n",
       "      <td>java</td>\n",
       "      <td>protected &lt;E&gt; E read(Supplier&lt;E&gt; sup) {\\n     ...</td>\n",
       "      <td>[protected, &lt;, E, &gt;, E, read, (, Supplier, &lt;, ...</td>\n",
       "      <td>Executes the given supplier within the context...</td>\n",
       "      <td>[Executes, the, given, supplier, within, the, ...</td>\n",
       "      <td>42cc18947c9c8596c34410336e4e375e9fcd7c47</td>\n",
       "      <td>https://github.com/skuzzle/jeve/blob/42cc18947...</td>\n",
       "      <td>train</td>\n",
       "    </tr>\n",
       "    <tr>\n",
       "      <th>4</th>\n",
       "      <td>vnesek/nmote-iim4j</td>\n",
       "      <td>src/main/java/com/nmote/iim4j/stream/SubIIMInp...</td>\n",
       "      <td>SubIIMInputStream.setOffsetAndLength</td>\n",
       "      <td>protected void setOffsetAndLength(long offset,...</td>\n",
       "      <td>java</td>\n",
       "      <td>protected void setOffsetAndLength(long offset,...</td>\n",
       "      <td>[protected, void, setOffsetAndLength, (, long,...</td>\n",
       "      <td>This should be called from a subclass construc...</td>\n",
       "      <td>[This, should, be, called, from, a, subclass, ...</td>\n",
       "      <td>ec55b02fc644cd722e93051ac0bdb96b00cb42a8</td>\n",
       "      <td>https://github.com/vnesek/nmote-iim4j/blob/ec5...</td>\n",
       "      <td>train</td>\n",
       "    </tr>\n",
       "  </tbody>\n",
       "</table>\n",
       "</div>"
      ]
     },
     "metadata": {},
     "execution_count": 4
    }
   ],
   "metadata": {}
  },
  {
   "cell_type": "code",
   "execution_count": 6,
   "source": [
    "type(train_data['code_tokens'][0])"
   ],
   "outputs": [
    {
     "output_type": "execute_result",
     "data": {
      "text/plain": [
       "list"
      ]
     },
     "metadata": {},
     "execution_count": 6
    }
   ],
   "metadata": {}
  },
  {
   "cell_type": "code",
   "execution_count": 7,
   "source": [
    "train_syntax_error_ids = []\n",
    "valid_syntax_error_ids = []\n",
    "test_syntax_error_ids = []"
   ],
   "outputs": [],
   "metadata": {}
  },
  {
   "cell_type": "code",
   "execution_count": 8,
   "source": [
    "from tqdm import tqdm\n",
    "import javalang\n",
    "from javalang.ast import Node"
   ],
   "outputs": [],
   "metadata": {}
  },
  {
   "cell_type": "code",
   "execution_count": 9,
   "source": [
    "def parse_program(func):\n",
    "    tokens = javalang.tokenizer.tokenize(func)\n",
    "    parser = javalang.parser.Parser(tokens)\n",
    "    tree = parser.parse_member_declaration()\n",
    "    return tree"
   ],
   "outputs": [],
   "metadata": {}
  },
  {
   "cell_type": "code",
   "execution_count": 10,
   "source": [
    "for i in tqdm(range(len(train_data['code']))):\n",
    "    try:\n",
    "        tree = parse_program(train_data['code'][i])\n",
    "    except:\n",
    "        train_syntax_error_ids.append(i)\n"
   ],
   "outputs": [
    {
     "output_type": "stream",
     "name": "stderr",
     "text": [
      "100%|██████████| 164923/164923 [04:37<00:00, 594.30it/s]\n"
     ]
    }
   ],
   "metadata": {}
  },
  {
   "cell_type": "code",
   "execution_count": 11,
   "source": [
    "len(train_syntax_error_ids)"
   ],
   "outputs": [
    {
     "output_type": "execute_result",
     "data": {
      "text/plain": [
       "109"
      ]
     },
     "metadata": {},
     "execution_count": 11
    }
   ],
   "metadata": {}
  },
  {
   "cell_type": "code",
   "execution_count": 12,
   "source": [
    "valid_syntax_error_ids = []\n",
    "for i in tqdm(range(len(valid_data['code']))):\n",
    "    try:\n",
    "        tree = parse_program(valid_data['code'][i])\n",
    "    except:\n",
    "        valid_syntax_error_ids.append(i)"
   ],
   "outputs": [
    {
     "output_type": "stream",
     "name": "stderr",
     "text": [
      "100%|██████████| 5183/5183 [00:07<00:00, 720.49it/s]\n"
     ]
    }
   ],
   "metadata": {}
  },
  {
   "cell_type": "code",
   "execution_count": 13,
   "source": [
    "len(valid_syntax_error_ids)"
   ],
   "outputs": [
    {
     "output_type": "execute_result",
     "data": {
      "text/plain": [
       "4"
      ]
     },
     "metadata": {},
     "execution_count": 13
    }
   ],
   "metadata": {}
  },
  {
   "cell_type": "code",
   "execution_count": 14,
   "source": [
    "for i in tqdm(range(len(test_data['code']))):\n",
    "    try:\n",
    "        tree = parse_program(test_data['code'][i])\n",
    "    except:\n",
    "        test_syntax_error_ids.append(i)"
   ],
   "outputs": [
    {
     "output_type": "stream",
     "name": "stderr",
     "text": [
      "100%|██████████| 10955/10955 [00:18<00:00, 601.78it/s]\n"
     ]
    }
   ],
   "metadata": {}
  },
  {
   "cell_type": "code",
   "execution_count": 15,
   "source": [
    "len(test_syntax_error_ids)"
   ],
   "outputs": [
    {
     "output_type": "execute_result",
     "data": {
      "text/plain": [
       "3"
      ]
     },
     "metadata": {},
     "execution_count": 15
    }
   ],
   "metadata": {}
  },
  {
   "cell_type": "code",
   "execution_count": 16,
   "source": [
    "train_data_new = train_data.drop(train_syntax_error_ids)\n",
    "valid_data_new = valid_data.drop(valid_syntax_error_ids)\n",
    "test_data_new = test_data.drop(test_syntax_error_ids)"
   ],
   "outputs": [],
   "metadata": {}
  },
  {
   "cell_type": "code",
   "execution_count": 18,
   "source": [
    "new_data_url = '../../data/code-summarization-new/'\n",
    "\n",
    "train_data_new.to_json(path_or_buf=new_data_url+'train.jsonl', orient='records', lines=True)\n",
    "valid_data_new.to_json(path_or_buf=new_data_url+'valid.jsonl',  orient='records', lines=True)\n",
    "test_data_new.to_json(path_or_buf=new_data_url+'test.jsonl',  orient='records', lines=True)\n"
   ],
   "outputs": [],
   "metadata": {}
  },
  {
   "cell_type": "code",
   "execution_count": 25,
   "source": [
    "print('train', len(train_data_new), 'valid', len(valid_data_new), 'test', len(test_data_new))"
   ],
   "outputs": [
    {
     "output_type": "stream",
     "name": "stdout",
     "text": [
      "train 164814 valid 5179 test 10952\n"
     ]
    }
   ],
   "metadata": {}
  },
  {
   "cell_type": "code",
   "execution_count": 3,
   "source": [
    "small_data_url = '../../data/code-summarization-small/'\n",
    "middle_data_url = '../../data/code-summarization-middle/'"
   ],
   "outputs": [],
   "metadata": {}
  },
  {
   "cell_type": "code",
   "execution_count": 2,
   "source": [
    "new_data_url = '../../data/code-summarization-new/'\n",
    "train_data_new = pd.read_json(new_data_url+'train.jsonl', lines=True)\n",
    "valid_data_new = pd.read_json(new_data_url+'valid.jsonl', lines=True)\n",
    "test_data_new = pd.read_json(new_data_url+'test.jsonl', lines=True)\n",
    "\n",
    "train_data_small = train_data_new[0:1000]\n",
    "valid_data_small = valid_data_new[0:100]\n",
    "test_data_small = test_data_new[0:100]\n",
    "\n",
    "train_data_middle = train_data_new.sample(frac=0.1)\n",
    "valid_data_middle = valid_data_new.sample(frac=0.1)\n",
    "test_data_middle = test_data_new.sample(frac=0.1)"
   ],
   "outputs": [],
   "metadata": {}
  },
  {
   "cell_type": "code",
   "execution_count": 21,
   "source": [
    "train_data_new.head(5)"
   ],
   "outputs": [
    {
     "output_type": "execute_result",
     "data": {
      "text/plain": [
       "                 repo                                               path  \\\n",
       "0         Harium/keel  src/main/java/com/harium/keel/effect/height/So...   \n",
       "1        skuzzle/jeve  jeve/src/main/java/de/skuzzle/jeve/providers/E...   \n",
       "2        skuzzle/jeve  jeve/src/main/java/de/skuzzle/jeve/stores/Abst...   \n",
       "3        skuzzle/jeve  jeve/src/main/java/de/skuzzle/jeve/stores/Abst...   \n",
       "4  vnesek/nmote-iim4j  src/main/java/com/nmote/iim4j/stream/SubIIMInp...   \n",
       "\n",
       "                                   func_name  \\\n",
       "0                                Sobel.apply   \n",
       "1                    EventStackImpl.popEvent   \n",
       "2  AbstractSynchronizedListenerSource.modify   \n",
       "3    AbstractSynchronizedListenerSource.read   \n",
       "4       SubIIMInputStream.setOffsetAndLength   \n",
       "\n",
       "                                     original_string language  \\\n",
       "0  @Override\\n    public ImageSource apply(ImageS...     java   \n",
       "1  public <L extends Listener> void popEvent(Even...     java   \n",
       "2  protected void modify(Transaction t) {\\n      ...     java   \n",
       "3  protected <E> E read(Supplier<E> sup) {\\n     ...     java   \n",
       "4  protected void setOffsetAndLength(long offset,...     java   \n",
       "\n",
       "                                                code  \\\n",
       "0  @Override\\n    public ImageSource apply(ImageS...   \n",
       "1  public <L extends Listener> void popEvent(Even...   \n",
       "2  protected void modify(Transaction t) {\\n      ...   \n",
       "3  protected <E> E read(Supplier<E> sup) {\\n     ...   \n",
       "4  protected void setOffsetAndLength(long offset,...   \n",
       "\n",
       "                                         code_tokens  \\\n",
       "0  [@, Override, public, ImageSource, apply, (, I...   \n",
       "1  [public, <, L, extends, Listener, >, void, pop...   \n",
       "2  [protected, void, modify, (, Transaction, t, )...   \n",
       "3  [protected, <, E, >, E, read, (, Supplier, <, ...   \n",
       "4  [protected, void, setOffsetAndLength, (, long,...   \n",
       "\n",
       "                                           docstring  \\\n",
       "0  Expects a height mat as input\\n\\n@param input ...   \n",
       "1  Pops the top event off the current event stack...   \n",
       "2  Executes the given transaction within the cont...   \n",
       "3  Executes the given supplier within the context...   \n",
       "4  This should be called from a subclass construc...   \n",
       "\n",
       "                                    docstring_tokens  \\\n",
       "0               [Expects, a, height, mat, as, input]   \n",
       "1  [Pops, the, top, event, off, the, current, eve...   \n",
       "2  [Executes, the, given, transaction, within, th...   \n",
       "3  [Executes, the, given, supplier, within, the, ...   \n",
       "4  [This, should, be, called, from, a, subclass, ...   \n",
       "\n",
       "                                        sha  \\\n",
       "0  0369ae674f9e664bccc5f9e161ae7e7a3b949a1e   \n",
       "1  42cc18947c9c8596c34410336e4e375e9fcd7c47   \n",
       "2  42cc18947c9c8596c34410336e4e375e9fcd7c47   \n",
       "3  42cc18947c9c8596c34410336e4e375e9fcd7c47   \n",
       "4  ec55b02fc644cd722e93051ac0bdb96b00cb42a8   \n",
       "\n",
       "                                                 url partition  \n",
       "0  https://github.com/Harium/keel/blob/0369ae674f...     train  \n",
       "1  https://github.com/skuzzle/jeve/blob/42cc18947...     train  \n",
       "2  https://github.com/skuzzle/jeve/blob/42cc18947...     train  \n",
       "3  https://github.com/skuzzle/jeve/blob/42cc18947...     train  \n",
       "4  https://github.com/vnesek/nmote-iim4j/blob/ec5...     train  "
      ],
      "text/html": [
       "<div>\n",
       "<style scoped>\n",
       "    .dataframe tbody tr th:only-of-type {\n",
       "        vertical-align: middle;\n",
       "    }\n",
       "\n",
       "    .dataframe tbody tr th {\n",
       "        vertical-align: top;\n",
       "    }\n",
       "\n",
       "    .dataframe thead th {\n",
       "        text-align: right;\n",
       "    }\n",
       "</style>\n",
       "<table border=\"1\" class=\"dataframe\">\n",
       "  <thead>\n",
       "    <tr style=\"text-align: right;\">\n",
       "      <th></th>\n",
       "      <th>repo</th>\n",
       "      <th>path</th>\n",
       "      <th>func_name</th>\n",
       "      <th>original_string</th>\n",
       "      <th>language</th>\n",
       "      <th>code</th>\n",
       "      <th>code_tokens</th>\n",
       "      <th>docstring</th>\n",
       "      <th>docstring_tokens</th>\n",
       "      <th>sha</th>\n",
       "      <th>url</th>\n",
       "      <th>partition</th>\n",
       "    </tr>\n",
       "  </thead>\n",
       "  <tbody>\n",
       "    <tr>\n",
       "      <th>0</th>\n",
       "      <td>Harium/keel</td>\n",
       "      <td>src/main/java/com/harium/keel/effect/height/So...</td>\n",
       "      <td>Sobel.apply</td>\n",
       "      <td>@Override\\n    public ImageSource apply(ImageS...</td>\n",
       "      <td>java</td>\n",
       "      <td>@Override\\n    public ImageSource apply(ImageS...</td>\n",
       "      <td>[@, Override, public, ImageSource, apply, (, I...</td>\n",
       "      <td>Expects a height mat as input\\n\\n@param input ...</td>\n",
       "      <td>[Expects, a, height, mat, as, input]</td>\n",
       "      <td>0369ae674f9e664bccc5f9e161ae7e7a3b949a1e</td>\n",
       "      <td>https://github.com/Harium/keel/blob/0369ae674f...</td>\n",
       "      <td>train</td>\n",
       "    </tr>\n",
       "    <tr>\n",
       "      <th>1</th>\n",
       "      <td>skuzzle/jeve</td>\n",
       "      <td>jeve/src/main/java/de/skuzzle/jeve/providers/E...</td>\n",
       "      <td>EventStackImpl.popEvent</td>\n",
       "      <td>public &lt;L extends Listener&gt; void popEvent(Even...</td>\n",
       "      <td>java</td>\n",
       "      <td>public &lt;L extends Listener&gt; void popEvent(Even...</td>\n",
       "      <td>[public, &lt;, L, extends, Listener, &gt;, void, pop...</td>\n",
       "      <td>Pops the top event off the current event stack...</td>\n",
       "      <td>[Pops, the, top, event, off, the, current, eve...</td>\n",
       "      <td>42cc18947c9c8596c34410336e4e375e9fcd7c47</td>\n",
       "      <td>https://github.com/skuzzle/jeve/blob/42cc18947...</td>\n",
       "      <td>train</td>\n",
       "    </tr>\n",
       "    <tr>\n",
       "      <th>2</th>\n",
       "      <td>skuzzle/jeve</td>\n",
       "      <td>jeve/src/main/java/de/skuzzle/jeve/stores/Abst...</td>\n",
       "      <td>AbstractSynchronizedListenerSource.modify</td>\n",
       "      <td>protected void modify(Transaction t) {\\n      ...</td>\n",
       "      <td>java</td>\n",
       "      <td>protected void modify(Transaction t) {\\n      ...</td>\n",
       "      <td>[protected, void, modify, (, Transaction, t, )...</td>\n",
       "      <td>Executes the given transaction within the cont...</td>\n",
       "      <td>[Executes, the, given, transaction, within, th...</td>\n",
       "      <td>42cc18947c9c8596c34410336e4e375e9fcd7c47</td>\n",
       "      <td>https://github.com/skuzzle/jeve/blob/42cc18947...</td>\n",
       "      <td>train</td>\n",
       "    </tr>\n",
       "    <tr>\n",
       "      <th>3</th>\n",
       "      <td>skuzzle/jeve</td>\n",
       "      <td>jeve/src/main/java/de/skuzzle/jeve/stores/Abst...</td>\n",
       "      <td>AbstractSynchronizedListenerSource.read</td>\n",
       "      <td>protected &lt;E&gt; E read(Supplier&lt;E&gt; sup) {\\n     ...</td>\n",
       "      <td>java</td>\n",
       "      <td>protected &lt;E&gt; E read(Supplier&lt;E&gt; sup) {\\n     ...</td>\n",
       "      <td>[protected, &lt;, E, &gt;, E, read, (, Supplier, &lt;, ...</td>\n",
       "      <td>Executes the given supplier within the context...</td>\n",
       "      <td>[Executes, the, given, supplier, within, the, ...</td>\n",
       "      <td>42cc18947c9c8596c34410336e4e375e9fcd7c47</td>\n",
       "      <td>https://github.com/skuzzle/jeve/blob/42cc18947...</td>\n",
       "      <td>train</td>\n",
       "    </tr>\n",
       "    <tr>\n",
       "      <th>4</th>\n",
       "      <td>vnesek/nmote-iim4j</td>\n",
       "      <td>src/main/java/com/nmote/iim4j/stream/SubIIMInp...</td>\n",
       "      <td>SubIIMInputStream.setOffsetAndLength</td>\n",
       "      <td>protected void setOffsetAndLength(long offset,...</td>\n",
       "      <td>java</td>\n",
       "      <td>protected void setOffsetAndLength(long offset,...</td>\n",
       "      <td>[protected, void, setOffsetAndLength, (, long,...</td>\n",
       "      <td>This should be called from a subclass construc...</td>\n",
       "      <td>[This, should, be, called, from, a, subclass, ...</td>\n",
       "      <td>ec55b02fc644cd722e93051ac0bdb96b00cb42a8</td>\n",
       "      <td>https://github.com/vnesek/nmote-iim4j/blob/ec5...</td>\n",
       "      <td>train</td>\n",
       "    </tr>\n",
       "  </tbody>\n",
       "</table>\n",
       "</div>"
      ]
     },
     "metadata": {},
     "execution_count": 21
    }
   ],
   "metadata": {}
  },
  {
   "cell_type": "code",
   "execution_count": 23,
   "source": [
    "type(train_data_new['docstring_tokens'][0])"
   ],
   "outputs": [
    {
     "output_type": "execute_result",
     "data": {
      "text/plain": [
       "list"
      ]
     },
     "metadata": {},
     "execution_count": 23
    }
   ],
   "metadata": {}
  },
  {
   "cell_type": "code",
   "execution_count": 24,
   "source": [
    "train_data_small.to_json(path_or_buf=small_data_url+'train.jsonl', orient='records', lines=True)\n",
    "valid_data_small.to_json(path_or_buf=small_data_url+'valid.jsonl',  orient='records', lines=True)\n",
    "test_data_small.to_json(path_or_buf=small_data_url+'test.jsonl',  orient='records', lines=True)"
   ],
   "outputs": [],
   "metadata": {}
  },
  {
   "cell_type": "code",
   "execution_count": 4,
   "source": [
    "train_data_middle.to_json(path_or_buf=middle_data_url+'train.jsonl', orient='records', lines=True)\n",
    "valid_data_middle.to_json(path_or_buf=middle_data_url+'valid.jsonl',  orient='records', lines=True)\n",
    "test_data_middle.to_json(path_or_buf=middle_data_url+'test.jsonl',  orient='records', lines=True)"
   ],
   "outputs": [],
   "metadata": {}
  },
  {
   "cell_type": "markdown",
   "source": [
    "Encoding with 'utf-8'"
   ],
   "metadata": {}
  },
  {
   "cell_type": "code",
   "execution_count": 2,
   "source": [
    "import pandas as pd"
   ],
   "outputs": [],
   "metadata": {}
  },
  {
   "cell_type": "code",
   "execution_count": 3,
   "source": [
    "data_url = ['../../data/code-summarization-enhanced-full/', '../../data/code-summarization-enhanced-middle/', '../../data/code-summarization-enhanced-small/']\n"
   ],
   "outputs": [],
   "metadata": {}
  },
  {
   "cell_type": "code",
   "execution_count": 11,
   "source": [
    "def del_non_utf8(data):\n",
    "    for i in range(len(data)):\n",
    "        code = data['code'][i]\n",
    "        data['code'][i] = data['code'][i].encode('utf-8','ignore').decode(\"utf-8\")\n",
    "        if code != data['code'][i]:\n",
    "            print('i')"
   ],
   "outputs": [],
   "metadata": {}
  },
  {
   "cell_type": "code",
   "execution_count": 12,
   "source": [
    "for i in range(3):\n",
    "    train_data_url = data_url[i] + 'train.jsonl'\n",
    "    valid_data_url = data_url[i] + 'valid.jsonl'\n",
    "    test_data_url = data_url[i] + 'test.jsonl'\n",
    "\n",
    "    train_data = pd.read_json(train_data_url, lines=True)\n",
    "    valid_data = pd.read_json(valid_data_url, lines=True)\n",
    "    test_data = pd.read_json(test_data_url, lines=True)\n",
    "\n",
    "    del_non_utf8(train_data)\n",
    "    del_non_utf8(test_data)\n",
    "    del_non_utf8(valid_data)\n",
    "\n",
    "    with open(data_url[i]+'train_utf8.jsonl', 'w', encoding='utf-8') as file:\n",
    "        train_data.to_json(file, force_ascii=False, orient='records', lines=True)\n",
    "    \n",
    "    with open(data_url[i]+'valid_utf8.jsonl', 'w', encoding='utf-8') as file:\n",
    "        valid_data.to_json(file, force_ascii=False, orient='records', lines=True)\n",
    "\n",
    "    with open(data_url[i]+'test_utf8.jsonl', 'w', encoding='utf-8') as file:\n",
    "        test_data.to_json(file, force_ascii=False, orient='records', lines=True)"
   ],
   "outputs": [],
   "metadata": {}
  },
  {
   "cell_type": "code",
   "execution_count": 13,
   "source": [
    "'\\ud800asdadfadfs'.encode('utf-8','ignore').decode(\"utf-8\")"
   ],
   "outputs": [
    {
     "output_type": "execute_result",
     "data": {
      "text/plain": [
       "''"
      ]
     },
     "metadata": {},
     "execution_count": 13
    }
   ],
   "metadata": {}
  },
  {
   "cell_type": "code",
   "execution_count": 14,
   "source": [
    "'\\ud800' == ''"
   ],
   "outputs": [
    {
     "output_type": "execute_result",
     "data": {
      "text/plain": [
       "False"
      ]
     },
     "metadata": {},
     "execution_count": 14
    }
   ],
   "metadata": {}
  },
  {
   "cell_type": "code",
   "execution_count": 15,
   "source": [
    "'asdadfadfs'.encode('utf-8','ignore').decode(\"utf-8\")"
   ],
   "outputs": [
    {
     "output_type": "execute_result",
     "data": {
      "text/plain": [
       "'asdadfadfs'"
      ]
     },
     "metadata": {},
     "execution_count": 15
    }
   ],
   "metadata": {}
  },
  {
   "cell_type": "code",
   "execution_count": 16,
   "source": [
    "'\\ud800asdadfadfs'.encode('utf-8','ignore').decode(\"utf-8\")"
   ],
   "outputs": [
    {
     "output_type": "execute_result",
     "data": {
      "text/plain": [
       "'asdadfadfs'"
      ]
     },
     "metadata": {},
     "execution_count": 16
    }
   ],
   "metadata": {}
  },
  {
   "cell_type": "markdown",
   "source": [
    "get the max node num"
   ],
   "metadata": {}
  },
  {
   "cell_type": "code",
   "execution_count": 1,
   "source": [
    "import pandas as pd \n",
    "enhance_data_url = '../../data/code-summarization-enhanced-full/'\n",
    "train_data_new = pd.read_json(enhance_data_url+'train_utf8.jsonl', lines=True)"
   ],
   "outputs": [],
   "metadata": {}
  },
  {
   "cell_type": "code",
   "execution_count": 4,
   "source": [
    "train_data_new['code'][81588]"
   ],
   "outputs": [
    {
     "output_type": "execute_result",
     "data": {
      "text/plain": [
       "'@Override\\n    public int propertyNameToCType(byte[]bytes, int p, int end) {\\n        Integer ctype = PosixBracket.PBSTableUpper.get(bytes, p, end);\\n        if (ctype != null) return ctype;\\n        throw new CharacterPropertyException(EncodingError.ERR_INVALID_CHAR_PROPERTY_NAME, bytes, p, end - p);\\n    }'"
      ]
     },
     "metadata": {},
     "execution_count": 4
    }
   ],
   "metadata": {}
  },
  {
   "cell_type": "code",
   "execution_count": null,
   "source": [],
   "outputs": [],
   "metadata": {}
  }
 ]
}