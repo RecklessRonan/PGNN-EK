{
 "cells": [
  {
   "cell_type": "code",
   "execution_count": null,
   "source": [
    "from bs4 import BeautifulSoup\n",
    "import pandas as pd\n",
    "import re"
   ],
   "outputs": [],
   "metadata": {}
  },
  {
   "cell_type": "code",
   "execution_count": null,
   "source": [
    "urls = []\n",
    "url_num = 27\n",
    "# file:///C:/Users/lenovo/Downloads/jdk-8u291-docs-all/docs/api/index-files/index-27.html\n",
    "for i in range(1, url_num + 1):\n",
    "    url = '/data/code/represent-code-in-human/data/jdk-8u291-docs-all/docs/api/index-files/index-' + str(i) + '.html'\n",
    "    urls.append(url)"
   ],
   "outputs": [],
   "metadata": {}
  },
  {
   "cell_type": "code",
   "execution_count": null,
   "source": [
    "index_name = []\n",
    "index_description = []\n",
    "method_description = []\n",
    "\n",
    "for i in range(url_num):\n",
    "    with open(urls[i], encoding='utf-8') as f:\n",
    "        soup = BeautifulSoup(f, 'lxml')\n",
    "        content = soup.find_all(['dt', 'dd'])\n",
    "        last_is_dd = True\n",
    "        for i in range(len(content)):\n",
    "            text = content[i].get_text()\n",
    "            if '<dt>' in str(content[i]) and '</dt>' in str(content[i]):\n",
    "                if not last_is_dd:\n",
    "                    method_description.append('None')\n",
    "                index_name.append(text.split(' - ')[0])\n",
    "                index_description.append(text.split(' - ')[1])\n",
    "                last_is_dd = False\n",
    "            else:\n",
    "                if last_is_dd:\n",
    "                    index_name.append('None')\n",
    "                    index_description.append('None')\n",
    "                if text == '\\xa0' or text is None:\n",
    "                    method_description.append('None')\n",
    "                else:\n",
    "                    method_description.append(text)\n",
    "                last_is_dd = True\n",
    "\n"
   ],
   "outputs": [],
   "metadata": {}
  },
  {
   "cell_type": "code",
   "execution_count": null,
   "source": [
    "# remove `\"\"` in text\n",
    "for i in range(len(method_description)):\n",
    "    index_name[i] = re.sub('\\\"', '', index_name[i])\n",
    "    index_description[i] = re.sub('\\\"', '', index_description[i])\n",
    "    method_description[i] = re.sub('\\\"', '', method_description[i])\n",
    "    index_name[i] = re.sub('\\n', '', index_name[i])\n",
    "    index_description[i] = re.sub('\\n', '', index_description[i])\n",
    "    method_description[i] = re.sub('\\n', '', method_description[i])"
   ],
   "outputs": [],
   "metadata": {}
  },
  {
   "cell_type": "code",
   "execution_count": null,
   "source": [
    "len(method_description)"
   ],
   "outputs": [],
   "metadata": {}
  },
  {
   "cell_type": "code",
   "execution_count": null,
   "source": [
    "len(index_name)"
   ],
   "outputs": [],
   "metadata": {}
  },
  {
   "cell_type": "code",
   "execution_count": null,
   "source": [
    "len(index_description)"
   ],
   "outputs": [],
   "metadata": {}
  },
  {
   "cell_type": "code",
   "execution_count": null,
   "source": [
    "index_name[0: 10]"
   ],
   "outputs": [],
   "metadata": {}
  },
  {
   "cell_type": "code",
   "execution_count": null,
   "source": [
    "index_description[0:10]"
   ],
   "outputs": [],
   "metadata": {}
  },
  {
   "cell_type": "code",
   "execution_count": null,
   "source": [
    "method_description[0:100]"
   ],
   "outputs": [],
   "metadata": {}
  },
  {
   "cell_type": "code",
   "execution_count": null,
   "source": [
    "df = pd.DataFrame({'index_name': index_name, 'index_description': index_description, 'method_description': method_description})\n",
    "df.to_csv('/data/code/represent-code-in-human/data/java_api.csv', index=False, encoding='utf-8')"
   ],
   "outputs": [],
   "metadata": {}
  },
  {
   "cell_type": "code",
   "execution_count": null,
   "source": [],
   "outputs": [],
   "metadata": {}
  }
 ],
 "metadata": {
  "orig_nbformat": 4,
  "language_info": {
   "name": "python"
  }
 },
 "nbformat": 4,
 "nbformat_minor": 2
}