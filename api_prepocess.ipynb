{
 "cells": [
  {
   "cell_type": "code",
   "execution_count": 1,
   "source": [
    "from bs4 import BeautifulSoup\n",
    "import pandas as pd\n",
    "import re"
   ],
   "outputs": [],
   "metadata": {}
  },
  {
   "cell_type": "code",
   "execution_count": 2,
   "source": [
    "urls = []\n",
    "url_num = 27\n",
    "# file:///C:/Users/lenovo/Downloads/jdk-8u291-docs-all/docs/api/index-files/index-27.html\n",
    "for i in range(1, url_num + 1):\n",
    "    url = '/data/code/represent-code-in-human/data/jdk-8u291-docs-all/docs/api/index-files/index-' + str(i) + '.html'\n",
    "    urls.append(url)"
   ],
   "outputs": [],
   "metadata": {}
  },
  {
   "cell_type": "code",
   "execution_count": 3,
   "source": [
    "index_name = []\n",
    "index_description = []\n",
    "method_description = []\n",
    "\n",
    "for i in range(url_num):\n",
    "    with open(urls[i], encoding='utf-8') as f:\n",
    "        soup = BeautifulSoup(f, 'lxml')\n",
    "        content = soup.find_all(['dt', 'dd'])\n",
    "        last_is_dd = True\n",
    "        for i in range(len(content)):\n",
    "            text = content[i].get_text()\n",
    "            if '<dt>' in str(content[i]) and '</dt>' in str(content[i]):\n",
    "                if not last_is_dd:\n",
    "                    method_description.append('None')\n",
    "                index_name.append(text.split(' - ')[0])\n",
    "                index_description.append(text.split(' - ')[1])\n",
    "                last_is_dd = False\n",
    "            else:\n",
    "                if last_is_dd:\n",
    "                    index_name.append('None')\n",
    "                    index_description.append('None')\n",
    "                if text == '\\xa0' or text is None:\n",
    "                    method_description.append('None')\n",
    "                else:\n",
    "                    method_description.append(text)\n",
    "                last_is_dd = True\n",
    "\n"
   ],
   "outputs": [],
   "metadata": {}
  },
  {
   "cell_type": "code",
   "execution_count": 14,
   "source": [
    "# remove `\"\"` in text\n",
    "for i in range(len(method_description)):\n",
    "    index_name[i] = re.sub('\\\"', '', index_name[i])\n",
    "    index_description[i] = re.sub('\\\"', '', index_description[i])\n",
    "    method_description[i] = re.sub('\\\"', '', method_description[i])\n",
    "    index_name[i] = re.sub('\\n', '', index_name[i])\n",
    "    index_description[i] = re.sub('\\n', '', index_description[i])\n",
    "    method_description[i] = re.sub('\\n', '', method_description[i])"
   ],
   "outputs": [],
   "metadata": {}
  },
  {
   "cell_type": "code",
   "execution_count": 15,
   "source": [
    "len(method_description)"
   ],
   "outputs": [
    {
     "output_type": "execute_result",
     "data": {
      "text/plain": [
       "51190"
      ]
     },
     "metadata": {},
     "execution_count": 15
    }
   ],
   "metadata": {}
  },
  {
   "cell_type": "code",
   "execution_count": 16,
   "source": [
    "len(index_name)"
   ],
   "outputs": [
    {
     "output_type": "execute_result",
     "data": {
      "text/plain": [
       "51190"
      ]
     },
     "metadata": {},
     "execution_count": 16
    }
   ],
   "metadata": {}
  },
  {
   "cell_type": "code",
   "execution_count": 17,
   "source": [
    "len(index_description)"
   ],
   "outputs": [
    {
     "output_type": "execute_result",
     "data": {
      "text/plain": [
       "51190"
      ]
     },
     "metadata": {},
     "execution_count": 17
    }
   ],
   "metadata": {}
  },
  {
   "cell_type": "code",
   "execution_count": 18,
   "source": [
    "index_name[0: 10]"
   ],
   "outputs": [
    {
     "output_type": "execute_result",
     "data": {
      "text/plain": [
       "['a', 'A', 'A', 'A', 'A', 'A0', 'A0', 'A1', 'A1', 'A10']"
      ]
     },
     "metadata": {},
     "execution_count": 18
    }
   ],
   "metadata": {}
  },
  {
   "cell_type": "code",
   "execution_count": 19,
   "source": [
    "index_description[0:10]"
   ],
   "outputs": [
    {
     "output_type": "execute_result",
     "data": {
      "text/plain": [
       "['Variable in class java.awt.AWTEventMulticaster',\n",
       " 'Static variable in class java.awt.PageAttributes.MediaType',\n",
       " 'Static variable in class javax.print.attribute.standard.MediaSize.Engineering',\n",
       " 'Static variable in class javax.print.attribute.standard.MediaSizeName',\n",
       " 'Static variable in class javax.swing.text.html.HTML.Tag',\n",
       " 'Static variable in class java.awt.PageAttributes.MediaType',\n",
       " 'Static variable in class javax.print.attribute.standard.MediaSize.ISO',\n",
       " 'Static variable in class java.awt.PageAttributes.MediaType',\n",
       " 'Static variable in class javax.print.attribute.standard.MediaSize.ISO',\n",
       " 'Static variable in class java.awt.PageAttributes.MediaType']"
      ]
     },
     "metadata": {},
     "execution_count": 19
    }
   ],
   "metadata": {}
  },
  {
   "cell_type": "code",
   "execution_count": 22,
   "source": [
    "method_description[0:100]"
   ],
   "outputs": [
    {
     "output_type": "execute_result",
     "data": {
      "text/plain": [
       "['None',\n",
       " 'The MediaType instance for Engineering A, 8 1/2 x 11 in.',\n",
       " 'Specifies the engineering A size, 8.5 inch by 11 inch.',\n",
       " 'A size .',\n",
       " 'None',\n",
       " 'An alias for ISO_A0.',\n",
       " 'Specifies the ISO A0 size, 841 mm by 1189 mm.',\n",
       " 'An alias for ISO_A1.',\n",
       " 'Specifies the ISO A1 size, 594 mm by 841 mm.',\n",
       " 'An alias for ISO_A10.',\n",
       " 'Specifies the ISO A10 size, 26 mm by 37 mm.',\n",
       " 'An alias for ISO_A2.',\n",
       " 'Specifies the ISO A2 size, 420 mm by 594 mm.',\n",
       " 'An alias for ISO_A3.',\n",
       " 'Specifies the ISO A3 size, 297 mm by 420 mm.',\n",
       " 'An alias for ISO_A4.',\n",
       " 'Specifies the ISO A4 size, 210 mm by 297 mm.',\n",
       " 'An alias for ISO_A5.',\n",
       " 'Specifies the ISO A5 size, 148 mm by 210 mm.',\n",
       " 'An alias for ISO_A6.',\n",
       " 'Specifies the ISO A6 size, 105 mm by 148 mm.',\n",
       " 'An alias for ISO_A7.',\n",
       " 'Specifies the ISO A7 size, 74 mm by 105 mm.',\n",
       " 'An alias for ISO_A8.',\n",
       " 'Specifies the ISO A8 size, 52 mm by 74 mm.',\n",
       " 'An alias for ISO_A9.',\n",
       " 'Specifies the ISO A9 size, 37 mm by 52 mm.',\n",
       " 'This flag in the infoflags argument to imageUpdate indicates that an image which was being tracked asynchronously was aborted before production was complete.',\n",
       " 'Aborts the attempt to cache the response.',\n",
       " 'Terminates an open connection.',\n",
       " 'Requests that any current read operation be aborted.',\n",
       " 'Requests that any current write operation be aborted.',\n",
       " 'Method to abort the authentication process (phase 2).',\n",
       " 'Abort the loading of the document that is currently being loaded by the LSParser.',\n",
       " 'Flag indicating that the downloading of media was aborted.',\n",
       " 'The job has been aborted by the system (usually while the job was in the PROCESSING or PROCESSING_STOPPED state), the printer has completed aborting the job, and all job status attributes have reached their final values for the job.',\n",
       " 'The job was aborted by the system.',\n",
       " 'Request the PixelGrabber to abort the image fetch.',\n",
       " 'Creates an AbortPolicy.',\n",
       " 'Returns true if a request to abort the current read operation has been made since the reader was instantiated or clearAbortRequest was called.',\n",
       " 'Returns true if a request to abort the current write operation has been made since the writer was instantiated or clearAbortRequest was called.',\n",
       " 'Denotes a UI which performs an informative About role.',\n",
       " 'Possible value for the anchor field.',\n",
       " 'Possible value for the anchor field.',\n",
       " 'Possible value for the anchor field.',\n",
       " \"Position the title above the border's bottom line.\",\n",
       " \"Position the title above the border's top line.\",\n",
       " 'Returns the absolute value of an int value.',\n",
       " 'Returns the absolute value of a long value.',\n",
       " 'Returns the absolute value of a float value.',\n",
       " 'Returns the absolute value of a double value.',\n",
       " 'Returns the absolute value of an int value.',\n",
       " 'Returns the absolute value of a long value.',\n",
       " 'Returns the absolute value of a float value.',\n",
       " 'Returns the absolute value of a double value.',\n",
       " 'Returns a BigDecimal whose value is the absolute value of this BigDecimal, and whose scale is this.scale().',\n",
       " 'Returns a BigDecimal whose value is the absolute value of this BigDecimal, with rounding according to the context settings.',\n",
       " 'Returns a BigInteger whose value is the absolute value of this BigInteger.',\n",
       " 'Returns a copy of this duration with a positive length.',\n",
       " 'Moves the cursor to the given row number in this ResultSet object.',\n",
       " 'Implements the absolutePath method as per the specification in Preferences.absolutePath().',\n",
       " \"Returns this preference node's absolute path name.\",\n",
       " 'The int value representing the abstract modifier.',\n",
       " 'This class provides default implementations for the JFC Action interface.',\n",
       " 'Creates an Action.',\n",
       " 'Creates an Action with the specified name.',\n",
       " 'Creates an Action with the specified name and small icon.',\n",
       " 'A skeletal visitor for annotation values with default behavior appropriate for the RELEASE_6 source version.',\n",
       " 'Constructor for concrete subclasses to call.',\n",
       " 'A skeletal visitor for annotation values with default behavior appropriate for the RELEASE_7 source version.',\n",
       " 'Constructor for concrete subclasses to call.',\n",
       " 'A skeletal visitor for annotation values with default behavior appropriate for the RELEASE_8 source version.',\n",
       " 'Constructor for concrete subclasses to call.',\n",
       " 'A class that implements an empty border with no size.',\n",
       " 'None',\n",
       " 'Defines common behaviors for buttons and menu items.',\n",
       " 'None',\n",
       " 'This class implements accessibility support for the AbstractButton class.',\n",
       " 'Extends ChangeListener to be serializable.',\n",
       " 'A base class for CellEditors, providing default implementations for the methods in the CellEditor interface except getCellEditorValue().',\n",
       " 'None',\n",
       " 'An abstract implementation of a calendar system, used to organize and identify dates.',\n",
       " 'Creates an instance.',\n",
       " 'This class provides a skeletal implementation of the Collection interface, to minimize the effort required to implement this interface.',\n",
       " 'Sole constructor.',\n",
       " 'This is the abstract superclass for color choosers.',\n",
       " 'None',\n",
       " 'An implementation of the document interface to serve as a basis for implementing various kinds of documents.',\n",
       " 'Constructs a new AbstractDocument, wrapped around some specified content storage mechanism.',\n",
       " 'Constructs a new AbstractDocument, wrapped around some specified content storage mechanism.',\n",
       " 'Implements the abstract part of an element.',\n",
       " 'An interface that can be used to allow MutableAttributeSet implementations to use pluggable attribute compression techniques.',\n",
       " 'Implements a composite element that contains other elements.',\n",
       " 'Interface to describe a sequence of character content that can be edited.',\n",
       " 'Stores document changes as the document is being modified.',\n",
       " 'An implementation of ElementChange that can be added to the document event.',\n",
       " 'Implements an element that directly represents content of some kind.',\n",
       " 'Creates a spliterator reporting the given estimated size and characteristics.',\n",
       " 'Creates a new AbstractElement.',\n",
       " 'A skeletal visitor of program elements with default behavior appropriate for the RELEASE_6 source version.']"
      ]
     },
     "metadata": {},
     "execution_count": 22
    }
   ],
   "metadata": {}
  },
  {
   "cell_type": "code",
   "execution_count": 21,
   "source": [
    "df = pd.DataFrame({'index_name': index_name, 'index_description': index_description, 'method_description': method_description})\n",
    "df.to_csv('/data/code/represent-code-in-human/data/java_api.csv', index=False, encoding='utf-8')"
   ],
   "outputs": [],
   "metadata": {}
  },
  {
   "cell_type": "code",
   "execution_count": null,
   "source": [],
   "outputs": [],
   "metadata": {}
  }
 ],
 "metadata": {
  "orig_nbformat": 4,
  "language_info": {
   "name": "python"
  }
 },
 "nbformat": 4,
 "nbformat_minor": 2
}