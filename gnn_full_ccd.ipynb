{
 "cells": [
  {
   "cell_type": "code",
   "execution_count": 1,
   "metadata": {},
   "outputs": [],
   "source": [
    "import yaml\n",
    "import warnings\n",
    "from datetime import datetime\n",
    "import logging\n",
    "import os\n",
    "import pandas as pd \n",
    "import javalang\n",
    "from javalang.ast import Node\n",
    "import torch\n",
    "import torch.nn.functional as F\n",
    "from torch.nn import Module, Embedding, LSTM, Sequential, Linear, BatchNorm1d, ReLU, Sigmoid, CrossEntropyLoss\n",
    "import torch.optim as optim\n",
    "from torch_geometric.nn.glob import GlobalAttention\n",
    "from torch_geometric.nn import MessagePassing, GatedGraphConv, GCNConv, global_mean_pool, GINEConv, global_add_pool\n",
    "from anytree import AnyNode\n",
    "from torch_geometric.data import Data, DataLoader, ClusterData, ClusterLoader\n",
    "from tqdm import tqdm_notebook as tqdm\n",
    "import numpy as np\n",
    "from torchsummary import summary\n",
    "import random\n",
    "\n",
    "warnings.filterwarnings('ignore')"
   ]
  },
  {
   "cell_type": "markdown",
   "metadata": {},
   "source": [
    "Paramerters"
   ]
  },
  {
   "cell_type": "code",
   "execution_count": 2,
   "metadata": {},
   "outputs": [],
   "source": [
    "config_file = 'config_dgnn.yml'"
   ]
  },
  {
   "cell_type": "code",
   "execution_count": 3,
   "metadata": {},
   "outputs": [],
   "source": [
    "config = yaml.load(open(config_file), Loader=yaml.FullLoader)\n",
    "\n",
    "# data source\n",
    "raw_code_url = config['ccd_data']['data']\n",
    "train_url = config['ccd_data']['train']\n",
    "valid_url = config['ccd_data']['valid']\n",
    "test_url = config['ccd_data']['test']\n",
    "\n",
    "# training parameter\n",
    "# batch_size = config['training']['batch_size']\n",
    "batch_size = 256\n",
    "num_epoches = config['training']['num_epoches']\n",
    "lr = config['training']['lr']\n",
    "decay_ratio = config['training']['lr']\n",
    "save_name = config['training']['save_name']\n",
    "warm_up = config['training']['warm_up']\n",
    "patience = config['training']['patience']\n",
    "\n",
    "# model design\n",
    "graph_embedding_size = config['model']['graph_embedding_size']\n",
    "lstm_hidden_size = config['model']['lstm_hidden_size']\n",
    "divide_node_num = config['model']['divide_node_num']\n",
    "gnn_layers_num = config['model']['gnn_layers_num']\n",
    "lstm_layers_num = config['model']['lstm_layers_num']\n",
    "decoder_input_size = config['model']['decoder_input_size']\n",
    "gine_dim = config['model']['gine_dim']\n",
    "\n",
    "# logs\n",
    "info_prefix = config['logs']['info_prefix']"
   ]
  },
  {
   "cell_type": "markdown",
   "metadata": {},
   "source": [
    "Logs"
   ]
  },
  {
   "cell_type": "code",
   "execution_count": 4,
   "metadata": {},
   "outputs": [],
   "source": [
    "run_id = datetime.now().strftime('%Y-%m-%d--%H-%M-%S')\n",
    "log_file = 'logs/' + run_id + '.log'\n",
    "exp_dir = 'runs/' + run_id\n",
    "os.mkdir(exp_dir)"
   ]
  },
  {
   "cell_type": "code",
   "execution_count": 5,
   "metadata": {},
   "outputs": [],
   "source": [
    "class Info(object):\n",
    "    def __init__(self, info_prefix=''):\n",
    "        self.info_prefix = info_prefix\n",
    "    \n",
    "    def print_msg(self, msg):\n",
    "        text = self.info_prefix + ' ' + msg\n",
    "        print(text)\n",
    "        logging.info(text)"
   ]
  },
  {
   "cell_type": "code",
   "execution_count": 6,
   "metadata": {},
   "outputs": [
    {
     "name": "stdout",
     "output_type": "stream",
     "text": [
      "dgnn run_id : 2021-07-26--02-26-49\n",
      "dgnn log_file : logs/2021-07-26--02-26-49.log\n",
      "dgnn exp_dir: runs/2021-07-26--02-26-49\n",
      "dgnn {'data': {'train': '/data/code/represent-code-in-human/data/code-summarization-new/train.jsonl', 'valid': '/data/code/represent-code-in-human/data/code-summarization-new/valid.jsonl', 'test': '/data/code/represent-code-in-human/data/code-summarization-new/test.jsonl'}, 'small_data': {'train': '/data/code/represent-code-in-human/data/code-summarization-small/train.jsonl', 'valid': '/data/code/represent-code-in-human/data/code-summarization-small/valid.jsonl', 'test': '/data/code/represent-code-in-human/data/code-summarization-small/test.jsonl'}, 'middle_data': {'train': '/data/code/represent-code-in-human/data/code-summarization-middle/train.jsonl', 'valid': '/data/code/represent-code-in-human/data/code-summarization-middle/valid.jsonl', 'test': '/data/code/represent-code-in-human/data/code-summarization-middle/test.jsonl'}, 'ccd_data': {'data': '/data/dataset/CodeXGLUE/Code-Code/Clone-detection-BigCloneBench/dataset/data.jsonl', 'train': '/data/dataset/CodeXGLUE/Code-Code/Clone-detection-BigCloneBench/dataset/train.txt', 'valid': '/data/dataset/CodeXGLUE/Code-Code/Clone-detection-BigCloneBench/dataset/test.txt', 'test': '/data/dataset/CodeXGLUE/Code-Code/Clone-detection-BigCloneBench/dataset/valid.txt'}, 'preprocess': {'max_seq_len': 32}, 'training': {'batch_size': 128, 'num_epoches': 100, 'lr': 0.001, 'decay_ratio': 0.95, 'save_name': '/model.pth', 'warm_up': 5, 'patience': 10}, 'model': {'graph_embedding_size': 100, 'gnn_layers_num': 4, 'lstm_layers_num': 3, 'lstm_hidden_size': 128, 'divide_node_num': 30, 'decoder_input_size': 300, 'decoder_hidden_size': 128, 'decoder_num_layers': 2, 'decoder_rnn_dropout': 0.5, 'gine_dim': 128}, 'logs': {'info_prefix': 'dgnn'}}\n"
     ]
    }
   ],
   "source": [
    "logging.basicConfig(format='%(asctime)s | %(message)s', datefmt='%m/%d/%Y %I:%M:%S %p', filename=log_file, level=logging.DEBUG)\n",
    "msgr = Info(info_prefix)\n",
    "\n",
    "msgr.print_msg('run_id : {}'.format(run_id))\n",
    "msgr.print_msg('log_file : {}'.format(log_file))\n",
    "msgr.print_msg('exp_dir: {}'.format(exp_dir))\n",
    "msgr.print_msg(str(config))"
   ]
  },
  {
   "cell_type": "markdown",
   "metadata": {},
   "source": [
    "Sequence Preprocess"
   ]
  },
  {
   "cell_type": "code",
   "execution_count": 7,
   "metadata": {},
   "outputs": [],
   "source": [
    "# define one extra keywords \n",
    "UNK_TOKEN = '<UNK>'\n",
    "UNK = 0"
   ]
  },
  {
   "cell_type": "code",
   "execution_count": 8,
   "metadata": {},
   "outputs": [
    {
     "data": {
      "text/html": [
       "<div>\n",
       "<style scoped>\n",
       "    .dataframe tbody tr th:only-of-type {\n",
       "        vertical-align: middle;\n",
       "    }\n",
       "\n",
       "    .dataframe tbody tr th {\n",
       "        vertical-align: top;\n",
       "    }\n",
       "\n",
       "    .dataframe thead th {\n",
       "        text-align: right;\n",
       "    }\n",
       "</style>\n",
       "<table border=\"1\" class=\"dataframe\">\n",
       "  <thead>\n",
       "    <tr style=\"text-align: right;\">\n",
       "      <th></th>\n",
       "      <th>func</th>\n",
       "    </tr>\n",
       "    <tr>\n",
       "      <th>idx</th>\n",
       "      <th></th>\n",
       "    </tr>\n",
       "  </thead>\n",
       "  <tbody>\n",
       "    <tr>\n",
       "      <th>10000832</th>\n",
       "      <td>public static void main(String[] args) {\\n...</td>\n",
       "    </tr>\n",
       "    <tr>\n",
       "      <th>10005623</th>\n",
       "      <td>public synchronized String getSerialNumber...</td>\n",
       "    </tr>\n",
       "    <tr>\n",
       "      <th>10005624</th>\n",
       "      <td>public Object run() {\\n           ...</td>\n",
       "    </tr>\n",
       "    <tr>\n",
       "      <th>10005674</th>\n",
       "      <td>public String post() {\\n        if (conten...</td>\n",
       "    </tr>\n",
       "    <tr>\n",
       "      <th>10005879</th>\n",
       "      <td>@Override\\n    public void onCreate(Bundle...</td>\n",
       "    </tr>\n",
       "  </tbody>\n",
       "</table>\n",
       "</div>"
      ],
      "text/plain": [
       "                                                       func\n",
       "idx                                                        \n",
       "10000832      public static void main(String[] args) {\\n...\n",
       "10005623      public synchronized String getSerialNumber...\n",
       "10005624              public Object run() {\\n           ...\n",
       "10005674      public String post() {\\n        if (conten...\n",
       "10005879      @Override\\n    public void onCreate(Bundle..."
      ]
     },
     "execution_count": 8,
     "metadata": {},
     "output_type": "execute_result"
    }
   ],
   "source": [
    "raw_code = pd.read_json(path_or_buf=raw_code_url, lines=True)\n",
    "raw_code = raw_code.set_index('idx')\n",
    "raw_code.head()"
   ]
  },
  {
   "cell_type": "code",
   "execution_count": 9,
   "metadata": {},
   "outputs": [],
   "source": [
    "raw_code_index = raw_code.index.tolist()\n",
    "\n",
    "over_length_ids = [10000832, 10151623, 10540676, 10690321, 10717656, 10793825, 10934628, 11339042, 11603577, 11940679, 12082150, 12119068, 12335897, 12352751, 12389873, 12415477, 12838273, 12838274, 12914531, 13099033, 13292215, 13292580, 13456795, 1349815, 13563706, 13586003, 13644040, 13650923, 13747998, 13776078, 13961100, 14020143, 14190765, 14310068, 14661394, 1477292, 14794142, 15295408, 15453012, 15723802, 15758923, 16002345, 16002347, 16006791, 16142591, 1637147, 16518661, 17314208, 17551920, 17573144, 17750515, 17829989, 17874921, 17917053, 18284812, 18433984, 18574455, 18790182, 18822890, 19074021, 19090289, 19276021, 19276022, 19340788, 19382420, 19434890, 19434892, 1944490, 19478367, 19556732, 1962490, 19634773, 19841853, 19942676, 20122631, 20275058, 2067794, 20833509, 20856391, 20885480, 21028028, 21161120, 21318345, 21493541, 2157431, 21652119, 22031237, 22033685, 22035132, 22114133, 22222255, 2235431, 2247987, 22580642, 22673614, 2285441, 23041161, 23094550, 23188198, 23248619, 23370708, 23510383, 23611768, 2450, 2476569, 2511576, 2769195, 2771573, 2771574, 285947, 2996859, 325062, 3375714, 3375715, 3375723, 3400236, 37044, 3867253, 416857, 4420769, 4494367, 4581365, 4660318, 4681906, 4780347, 4792385, 4854974, 5021563, 5189131, 5252227, 5389524, 5430189, 552318, 557726, 5620476, 564191, 5691586, 592597, 6008880, 6121196, 6147227, 6304372, 6304373, 6333737, 6403868, 6644748, 6961579, 6966398, 7005223, 7149578, 726690, 7300257, 7300264, 7300267, 733283, 7394826, 7665877, 7687037, 7727956, 793122, 8079516, 8109022, 8335944, 83802, 8581437, 8641070, 9050003, 9221721, 9261908, 9530015, 9581835, 961457, 9647574, 9687064, 9705209, 9782243, 979163, 98309, 98428, 9980609]\n",
    "# over_length_ids = [10690321, 10717656, 10793825, 11339042, 12119068, 12352751, 12415477, 13099033, 15723802, 1637147, 16518661, 17750515, 18822890, 19276021, 2067794, 20833509, 20856391, 20885480, 21028028, 22033685, 22035132, 2235431, 2247987, 22580642, 2285441, 23094550, 23248619, 2996859, 325062, 3375723, 3867253, 4494367, 4660318, 4780347, 5021563, 5189131, 5252227, 564191, 6147227, 7005223, 7300267, 793122, 8109022, 8581437, 9221721, 9647574, 98309]\n",
    "\n",
    "def read_ccd_pairs(url):\n",
    "    data = []\n",
    "    with open(url) as f:\n",
    "        for line in f:\n",
    "            line = line.strip()\n",
    "            id1, id2, label = line.split('\\t')\n",
    "            if int(id1) not in raw_code_index or int(id2) not in raw_code_index or int(id1) in over_length_ids or int(id2) in over_length_ids:\n",
    "                continue\n",
    "            label = 0 if label == '0' else 1\n",
    "            data.append((int(id1), int(id2), label))\n",
    "    return data"
   ]
  },
  {
   "cell_type": "code",
   "execution_count": 10,
   "metadata": {},
   "outputs": [],
   "source": [
    "train_data = read_ccd_pairs(train_url)\n",
    "valid_data = read_ccd_pairs(valid_url)\n",
    "test_data = read_ccd_pairs(test_url)"
   ]
  },
  {
   "cell_type": "code",
   "execution_count": 39,
   "metadata": {},
   "outputs": [
    {
     "ename": "KeyError",
     "evalue": "1",
     "output_type": "error",
     "traceback": [
      "\u001b[0;31m---------------------------------------------------------------------------\u001b[0m",
      "\u001b[0;31mKeyError\u001b[0m                                  Traceback (most recent call last)",
      "\u001b[0;32m/usr/local/lib/python3.6/dist-packages/pandas/core/indexes/base.py\u001b[0m in \u001b[0;36mget_loc\u001b[0;34m(self, key, method, tolerance)\u001b[0m\n\u001b[1;32m   2896\u001b[0m             \u001b[0;32mtry\u001b[0m\u001b[0;34m:\u001b[0m\u001b[0;34m\u001b[0m\u001b[0;34m\u001b[0m\u001b[0m\n\u001b[0;32m-> 2897\u001b[0;31m                 \u001b[0;32mreturn\u001b[0m \u001b[0mself\u001b[0m\u001b[0;34m.\u001b[0m\u001b[0m_engine\u001b[0m\u001b[0;34m.\u001b[0m\u001b[0mget_loc\u001b[0m\u001b[0;34m(\u001b[0m\u001b[0mkey\u001b[0m\u001b[0;34m)\u001b[0m\u001b[0;34m\u001b[0m\u001b[0;34m\u001b[0m\u001b[0m\n\u001b[0m\u001b[1;32m   2898\u001b[0m             \u001b[0;32mexcept\u001b[0m \u001b[0mKeyError\u001b[0m\u001b[0;34m:\u001b[0m\u001b[0;34m\u001b[0m\u001b[0;34m\u001b[0m\u001b[0m\n",
      "\u001b[0;32mpandas/_libs/index.pyx\u001b[0m in \u001b[0;36mpandas._libs.index.IndexEngine.get_loc\u001b[0;34m()\u001b[0m\n",
      "\u001b[0;32mpandas/_libs/index.pyx\u001b[0m in \u001b[0;36mpandas._libs.index.IndexEngine.get_loc\u001b[0;34m()\u001b[0m\n",
      "\u001b[0;32mpandas/_libs/hashtable_class_helper.pxi\u001b[0m in \u001b[0;36mpandas._libs.hashtable.Int64HashTable.get_item\u001b[0;34m()\u001b[0m\n",
      "\u001b[0;32mpandas/_libs/hashtable_class_helper.pxi\u001b[0m in \u001b[0;36mpandas._libs.hashtable.Int64HashTable.get_item\u001b[0;34m()\u001b[0m\n",
      "\u001b[0;31mKeyError\u001b[0m: 1",
      "\nDuring handling of the above exception, another exception occurred:\n",
      "\u001b[0;31mKeyError\u001b[0m                                  Traceback (most recent call last)",
      "\u001b[0;32m<ipython-input-39-5cac14060f5f>\u001b[0m in \u001b[0;36m<module>\u001b[0;34m\u001b[0m\n\u001b[0;32m----> 1\u001b[0;31m \u001b[0mraw_code\u001b[0m\u001b[0;34m[\u001b[0m\u001b[0;34m'func'\u001b[0m\u001b[0;34m]\u001b[0m\u001b[0;34m.\u001b[0m\u001b[0mloc\u001b[0m\u001b[0;34m[\u001b[0m\u001b[0;36m1\u001b[0m\u001b[0;34m]\u001b[0m\u001b[0;34m\u001b[0m\u001b[0;34m\u001b[0m\u001b[0m\n\u001b[0m",
      "\u001b[0;32m/usr/local/lib/python3.6/dist-packages/pandas/core/indexing.py\u001b[0m in \u001b[0;36m__getitem__\u001b[0;34m(self, key)\u001b[0m\n\u001b[1;32m   1422\u001b[0m \u001b[0;34m\u001b[0m\u001b[0m\n\u001b[1;32m   1423\u001b[0m             \u001b[0mmaybe_callable\u001b[0m \u001b[0;34m=\u001b[0m \u001b[0mcom\u001b[0m\u001b[0;34m.\u001b[0m\u001b[0mapply_if_callable\u001b[0m\u001b[0;34m(\u001b[0m\u001b[0mkey\u001b[0m\u001b[0;34m,\u001b[0m \u001b[0mself\u001b[0m\u001b[0;34m.\u001b[0m\u001b[0mobj\u001b[0m\u001b[0;34m)\u001b[0m\u001b[0;34m\u001b[0m\u001b[0;34m\u001b[0m\u001b[0m\n\u001b[0;32m-> 1424\u001b[0;31m             \u001b[0;32mreturn\u001b[0m \u001b[0mself\u001b[0m\u001b[0;34m.\u001b[0m\u001b[0m_getitem_axis\u001b[0m\u001b[0;34m(\u001b[0m\u001b[0mmaybe_callable\u001b[0m\u001b[0;34m,\u001b[0m \u001b[0maxis\u001b[0m\u001b[0;34m=\u001b[0m\u001b[0maxis\u001b[0m\u001b[0;34m)\u001b[0m\u001b[0;34m\u001b[0m\u001b[0;34m\u001b[0m\u001b[0m\n\u001b[0m\u001b[1;32m   1425\u001b[0m \u001b[0;34m\u001b[0m\u001b[0m\n\u001b[1;32m   1426\u001b[0m     \u001b[0;32mdef\u001b[0m \u001b[0m_is_scalar_access\u001b[0m\u001b[0;34m(\u001b[0m\u001b[0mself\u001b[0m\u001b[0;34m,\u001b[0m \u001b[0mkey\u001b[0m\u001b[0;34m:\u001b[0m \u001b[0mTuple\u001b[0m\u001b[0;34m)\u001b[0m\u001b[0;34m:\u001b[0m\u001b[0;34m\u001b[0m\u001b[0;34m\u001b[0m\u001b[0m\n",
      "\u001b[0;32m/usr/local/lib/python3.6/dist-packages/pandas/core/indexing.py\u001b[0m in \u001b[0;36m_getitem_axis\u001b[0;34m(self, key, axis)\u001b[0m\n\u001b[1;32m   1848\u001b[0m         \u001b[0;31m# fall thru to straight lookup\u001b[0m\u001b[0;34m\u001b[0m\u001b[0;34m\u001b[0m\u001b[0;34m\u001b[0m\u001b[0m\n\u001b[1;32m   1849\u001b[0m         \u001b[0mself\u001b[0m\u001b[0;34m.\u001b[0m\u001b[0m_validate_key\u001b[0m\u001b[0;34m(\u001b[0m\u001b[0mkey\u001b[0m\u001b[0;34m,\u001b[0m \u001b[0maxis\u001b[0m\u001b[0;34m)\u001b[0m\u001b[0;34m\u001b[0m\u001b[0;34m\u001b[0m\u001b[0m\n\u001b[0;32m-> 1850\u001b[0;31m         \u001b[0;32mreturn\u001b[0m \u001b[0mself\u001b[0m\u001b[0;34m.\u001b[0m\u001b[0m_get_label\u001b[0m\u001b[0;34m(\u001b[0m\u001b[0mkey\u001b[0m\u001b[0;34m,\u001b[0m \u001b[0maxis\u001b[0m\u001b[0;34m=\u001b[0m\u001b[0maxis\u001b[0m\u001b[0;34m)\u001b[0m\u001b[0;34m\u001b[0m\u001b[0;34m\u001b[0m\u001b[0m\n\u001b[0m\u001b[1;32m   1851\u001b[0m \u001b[0;34m\u001b[0m\u001b[0m\n\u001b[1;32m   1852\u001b[0m \u001b[0;34m\u001b[0m\u001b[0m\n",
      "\u001b[0;32m/usr/local/lib/python3.6/dist-packages/pandas/core/indexing.py\u001b[0m in \u001b[0;36m_get_label\u001b[0;34m(self, label, axis)\u001b[0m\n\u001b[1;32m    154\u001b[0m             \u001b[0;31m# but will fail when the index is not present\u001b[0m\u001b[0;34m\u001b[0m\u001b[0;34m\u001b[0m\u001b[0;34m\u001b[0m\u001b[0m\n\u001b[1;32m    155\u001b[0m             \u001b[0;31m# see GH5667\u001b[0m\u001b[0;34m\u001b[0m\u001b[0;34m\u001b[0m\u001b[0;34m\u001b[0m\u001b[0m\n\u001b[0;32m--> 156\u001b[0;31m             \u001b[0;32mreturn\u001b[0m \u001b[0mself\u001b[0m\u001b[0;34m.\u001b[0m\u001b[0mobj\u001b[0m\u001b[0;34m.\u001b[0m\u001b[0m_xs\u001b[0m\u001b[0;34m(\u001b[0m\u001b[0mlabel\u001b[0m\u001b[0;34m,\u001b[0m \u001b[0maxis\u001b[0m\u001b[0;34m=\u001b[0m\u001b[0maxis\u001b[0m\u001b[0;34m)\u001b[0m\u001b[0;34m\u001b[0m\u001b[0;34m\u001b[0m\u001b[0m\n\u001b[0m\u001b[1;32m    157\u001b[0m         \u001b[0;32melif\u001b[0m \u001b[0misinstance\u001b[0m\u001b[0;34m(\u001b[0m\u001b[0mlabel\u001b[0m\u001b[0;34m,\u001b[0m \u001b[0mtuple\u001b[0m\u001b[0;34m)\u001b[0m \u001b[0;32mand\u001b[0m \u001b[0misinstance\u001b[0m\u001b[0;34m(\u001b[0m\u001b[0mlabel\u001b[0m\u001b[0;34m[\u001b[0m\u001b[0maxis\u001b[0m\u001b[0;34m]\u001b[0m\u001b[0;34m,\u001b[0m \u001b[0mslice\u001b[0m\u001b[0;34m)\u001b[0m\u001b[0;34m:\u001b[0m\u001b[0;34m\u001b[0m\u001b[0;34m\u001b[0m\u001b[0m\n\u001b[1;32m    158\u001b[0m             \u001b[0;32mraise\u001b[0m \u001b[0mIndexingError\u001b[0m\u001b[0;34m(\u001b[0m\u001b[0;34m\"no slices here, handle elsewhere\"\u001b[0m\u001b[0;34m)\u001b[0m\u001b[0;34m\u001b[0m\u001b[0;34m\u001b[0m\u001b[0m\n",
      "\u001b[0;32m/usr/local/lib/python3.6/dist-packages/pandas/core/generic.py\u001b[0m in \u001b[0;36mxs\u001b[0;34m(self, key, axis, level, drop_level)\u001b[0m\n\u001b[1;32m   3735\u001b[0m             \u001b[0mloc\u001b[0m\u001b[0;34m,\u001b[0m \u001b[0mnew_index\u001b[0m \u001b[0;34m=\u001b[0m \u001b[0mself\u001b[0m\u001b[0;34m.\u001b[0m\u001b[0mindex\u001b[0m\u001b[0;34m.\u001b[0m\u001b[0mget_loc_level\u001b[0m\u001b[0;34m(\u001b[0m\u001b[0mkey\u001b[0m\u001b[0;34m,\u001b[0m \u001b[0mdrop_level\u001b[0m\u001b[0;34m=\u001b[0m\u001b[0mdrop_level\u001b[0m\u001b[0;34m)\u001b[0m\u001b[0;34m\u001b[0m\u001b[0;34m\u001b[0m\u001b[0m\n\u001b[1;32m   3736\u001b[0m         \u001b[0;32melse\u001b[0m\u001b[0;34m:\u001b[0m\u001b[0;34m\u001b[0m\u001b[0;34m\u001b[0m\u001b[0m\n\u001b[0;32m-> 3737\u001b[0;31m             \u001b[0mloc\u001b[0m \u001b[0;34m=\u001b[0m \u001b[0mself\u001b[0m\u001b[0;34m.\u001b[0m\u001b[0mindex\u001b[0m\u001b[0;34m.\u001b[0m\u001b[0mget_loc\u001b[0m\u001b[0;34m(\u001b[0m\u001b[0mkey\u001b[0m\u001b[0;34m)\u001b[0m\u001b[0;34m\u001b[0m\u001b[0;34m\u001b[0m\u001b[0m\n\u001b[0m\u001b[1;32m   3738\u001b[0m \u001b[0;34m\u001b[0m\u001b[0m\n\u001b[1;32m   3739\u001b[0m             \u001b[0;32mif\u001b[0m \u001b[0misinstance\u001b[0m\u001b[0;34m(\u001b[0m\u001b[0mloc\u001b[0m\u001b[0;34m,\u001b[0m \u001b[0mnp\u001b[0m\u001b[0;34m.\u001b[0m\u001b[0mndarray\u001b[0m\u001b[0;34m)\u001b[0m\u001b[0;34m:\u001b[0m\u001b[0;34m\u001b[0m\u001b[0;34m\u001b[0m\u001b[0m\n",
      "\u001b[0;32m/usr/local/lib/python3.6/dist-packages/pandas/core/indexes/base.py\u001b[0m in \u001b[0;36mget_loc\u001b[0;34m(self, key, method, tolerance)\u001b[0m\n\u001b[1;32m   2897\u001b[0m                 \u001b[0;32mreturn\u001b[0m \u001b[0mself\u001b[0m\u001b[0;34m.\u001b[0m\u001b[0m_engine\u001b[0m\u001b[0;34m.\u001b[0m\u001b[0mget_loc\u001b[0m\u001b[0;34m(\u001b[0m\u001b[0mkey\u001b[0m\u001b[0;34m)\u001b[0m\u001b[0;34m\u001b[0m\u001b[0;34m\u001b[0m\u001b[0m\n\u001b[1;32m   2898\u001b[0m             \u001b[0;32mexcept\u001b[0m \u001b[0mKeyError\u001b[0m\u001b[0;34m:\u001b[0m\u001b[0;34m\u001b[0m\u001b[0;34m\u001b[0m\u001b[0m\n\u001b[0;32m-> 2899\u001b[0;31m                 \u001b[0;32mreturn\u001b[0m \u001b[0mself\u001b[0m\u001b[0;34m.\u001b[0m\u001b[0m_engine\u001b[0m\u001b[0;34m.\u001b[0m\u001b[0mget_loc\u001b[0m\u001b[0;34m(\u001b[0m\u001b[0mself\u001b[0m\u001b[0;34m.\u001b[0m\u001b[0m_maybe_cast_indexer\u001b[0m\u001b[0;34m(\u001b[0m\u001b[0mkey\u001b[0m\u001b[0;34m)\u001b[0m\u001b[0;34m)\u001b[0m\u001b[0;34m\u001b[0m\u001b[0;34m\u001b[0m\u001b[0m\n\u001b[0m\u001b[1;32m   2900\u001b[0m         \u001b[0mindexer\u001b[0m \u001b[0;34m=\u001b[0m \u001b[0mself\u001b[0m\u001b[0;34m.\u001b[0m\u001b[0mget_indexer\u001b[0m\u001b[0;34m(\u001b[0m\u001b[0;34m[\u001b[0m\u001b[0mkey\u001b[0m\u001b[0;34m]\u001b[0m\u001b[0;34m,\u001b[0m \u001b[0mmethod\u001b[0m\u001b[0;34m=\u001b[0m\u001b[0mmethod\u001b[0m\u001b[0;34m,\u001b[0m \u001b[0mtolerance\u001b[0m\u001b[0;34m=\u001b[0m\u001b[0mtolerance\u001b[0m\u001b[0;34m)\u001b[0m\u001b[0;34m\u001b[0m\u001b[0;34m\u001b[0m\u001b[0m\n\u001b[1;32m   2901\u001b[0m         \u001b[0;32mif\u001b[0m \u001b[0mindexer\u001b[0m\u001b[0;34m.\u001b[0m\u001b[0mndim\u001b[0m \u001b[0;34m>\u001b[0m \u001b[0;36m1\u001b[0m \u001b[0;32mor\u001b[0m \u001b[0mindexer\u001b[0m\u001b[0;34m.\u001b[0m\u001b[0msize\u001b[0m \u001b[0;34m>\u001b[0m \u001b[0;36m1\u001b[0m\u001b[0;34m:\u001b[0m\u001b[0;34m\u001b[0m\u001b[0;34m\u001b[0m\u001b[0m\n",
      "\u001b[0;32mpandas/_libs/index.pyx\u001b[0m in \u001b[0;36mpandas._libs.index.IndexEngine.get_loc\u001b[0;34m()\u001b[0m\n",
      "\u001b[0;32mpandas/_libs/index.pyx\u001b[0m in \u001b[0;36mpandas._libs.index.IndexEngine.get_loc\u001b[0;34m()\u001b[0m\n",
      "\u001b[0;32mpandas/_libs/hashtable_class_helper.pxi\u001b[0m in \u001b[0;36mpandas._libs.hashtable.Int64HashTable.get_item\u001b[0;34m()\u001b[0m\n",
      "\u001b[0;32mpandas/_libs/hashtable_class_helper.pxi\u001b[0m in \u001b[0;36mpandas._libs.hashtable.Int64HashTable.get_item\u001b[0;34m()\u001b[0m\n",
      "\u001b[0;31mKeyError\u001b[0m: 1"
     ]
    }
   ],
   "source": [
    "raw_code['func'].iloc[1]"
   ]
  },
  {
   "cell_type": "code",
   "execution_count": 11,
   "metadata": {},
   "outputs": [
    {
     "name": "stdout",
     "output_type": "stream",
     "text": [
      "dgnn train size: 864660, valid size: 402753, test size: 395605\n"
     ]
    }
   ],
   "source": [
    "random.seed(666)\n",
    "train_data_small = random.sample(train_data, len(train_data))\n",
    "valid_data_small = random.sample(valid_data, len(valid_data))\n",
    "test_data_small = random.sample(test_data, len(test_data))\n",
    "\n",
    "msgr.print_msg('train size: {}, valid size: {}, test size: {}'.format(len(train_data_small), len(valid_data_small), len(test_data_small)))"
   ]
  },
  {
   "cell_type": "code",
   "execution_count": 12,
   "metadata": {},
   "outputs": [],
   "source": [
    "# define vocab class\n",
    "class Vocab(object):\n",
    "    def __init__(self, word2id={}):\n",
    "        self.word2id = dict(word2id)\n",
    "        self.id2word = {v: k for k, v in self.word2id.items()}\n",
    "\n",
    "    def build_vocab(self, sentences, min_count=1):\n",
    "        word_counter = {}\n",
    "        for word in sentences:\n",
    "            word_counter[word] = word_counter.get(word, 0) + 1\n",
    "        \n",
    "        for word, count in sorted(word_counter.items(), key=lambda x: -x[1]):\n",
    "            if count < min_count:\n",
    "                break\n",
    "            _id = len(self.word2id)\n",
    "            self.word2id.setdefault(word, _id)\n",
    "            self.id2word[_id] = word"
   ]
  },
  {
   "cell_type": "code",
   "execution_count": 13,
   "metadata": {},
   "outputs": [],
   "source": [
    "# construct two vocabulary for ast nodes and natural language repectively\n",
    "word2id = {\n",
    "    UNK_TOKEN: UNK\n",
    "}\n",
    "vocab_astnodes = Vocab(word2id=word2id)\n"
   ]
  },
  {
   "cell_type": "code",
   "execution_count": 14,
   "metadata": {},
   "outputs": [],
   "source": [
    "# use javalang to generate ASTs and depth-first traverse to generate ast nodes corpus\n",
    "def get_token(node):\n",
    "    token = ''\n",
    "    if isinstance(node, str):\n",
    "        token = node\n",
    "    elif isinstance(node, set):\n",
    "        token = 'Modifier'\n",
    "    elif isinstance(node, Node):\n",
    "        token = node.__class__.__name__\n",
    "    return token\n",
    "\n",
    "\n",
    "def get_child(root):\n",
    "    if isinstance(root, Node):\n",
    "        children = root.children\n",
    "    elif isinstance(root, set):\n",
    "        children = list(root)\n",
    "    else:\n",
    "        children = []\n",
    "\n",
    "    def expand(nested_list):\n",
    "        for item in nested_list:\n",
    "            if isinstance(item, list):\n",
    "                for sub_item in expand(item):\n",
    "                    yield sub_item\n",
    "            elif item:\n",
    "                yield item\n",
    "\n",
    "    return list(expand(children))\n",
    "\n",
    "\n",
    "def get_sequence(node, sequence):\n",
    "    token, children = get_token(node), get_child(node)\n",
    "    sequence.append(token)\n",
    "    for child in children:\n",
    "        get_sequence(child, sequence)\n",
    "\n",
    "\n",
    "def parse_program(func):\n",
    "    tokens = javalang.tokenizer.tokenize(func)\n",
    "    parser = javalang.parser.Parser(tokens)\n",
    "    tree = parser.parse_member_declaration()\n",
    "    return tree"
   ]
  },
  {
   "cell_type": "code",
   "execution_count": 15,
   "metadata": {},
   "outputs": [],
   "source": [
    "# use train data to construction ast nodes corpus\n",
    "astnodes_tokens = []\n",
    "train_ids = []\n",
    "for i in range(len(train_data)):\n",
    "    train_ids.append(train_data[i][0])\n",
    "    train_ids.append(train_data[i][1])\n",
    "\n",
    "train_ids = list(set(train_ids))\n",
    "\n",
    "for id in train_ids:\n",
    "    sequence = []\n",
    "    get_sequence(parse_program(raw_code['func'][id]), sequence)\n",
    "    astnodes_tokens.extend(sequence)\n",
    "\n",
    "vocab_astnodes.build_vocab(astnodes_tokens, min_count=0)"
   ]
  },
  {
   "cell_type": "code",
   "execution_count": 16,
   "metadata": {},
   "outputs": [
    {
     "name": "stdout",
     "output_type": "stream",
     "text": [
      "dgnn vocab_astnodes_size: 54866\n"
     ]
    }
   ],
   "source": [
    "vocab_astnodes_size = len(vocab_astnodes.id2word)\n",
    "msgr.print_msg('vocab_astnodes_size: ' + str(vocab_astnodes_size))"
   ]
  },
  {
   "cell_type": "markdown",
   "metadata": {},
   "source": [
    "Add Dataflow to AST to generate D-AST"
   ]
  },
  {
   "cell_type": "code",
   "execution_count": 17,
   "metadata": {},
   "outputs": [],
   "source": [
    "#  generate tree for AST Node\n",
    "def create_tree(root, node, node_list, parent=None):\n",
    "    id = len(node_list)\n",
    "    token, children = get_token(node), get_child(node)\n",
    "    if id == 0:\n",
    "        root.token = token\n",
    "        root.data = node\n",
    "    else:\n",
    "        new_node = AnyNode(id=id, token=token, data=node, parent=parent)\n",
    "    node_list.append(node)\n",
    "    for child in children:\n",
    "        if id == 0:\n",
    "            create_tree(root, child, node_list, parent=root)\n",
    "        else:\n",
    "            create_tree(root, child, node_list, parent=new_node)"
   ]
  },
  {
   "cell_type": "code",
   "execution_count": 18,
   "metadata": {},
   "outputs": [],
   "source": [
    "# traverse the AST tree to get all the nodes and edges\n",
    "def get_node_and_edge(node, node_index_list, vocab_dict, src, tgt, variable_token_list, variable_id_list):\n",
    "    token = node.token\n",
    "    # print('token', token)\n",
    "    node_index_list.append([vocab_dict.word2id.get(token, UNK)])\n",
    "    # find out all variables\n",
    "    if token in ['VariableDeclarator', 'MemberReference']:\n",
    "        variable_token_list.append(node.children[0].token)\n",
    "        variable_id_list.append(node.children[0].id)\n",
    "    for child in node.children:\n",
    "        # print('child', child.token)\n",
    "        src.append(node.id)\n",
    "        tgt.append(child.id)\n",
    "        src.append(child.id)\n",
    "        tgt.append(node.id)\n",
    "        get_node_and_edge(child, node_index_list, vocab_dict, src, tgt, variable_token_list, variable_id_list)"
   ]
  },
  {
   "cell_type": "code",
   "execution_count": 19,
   "metadata": {},
   "outputs": [],
   "source": [
    "# generate pytorch_geometric input format data from ast\n",
    "def get_pyg_data_from_ast(ast, vocab_dict):\n",
    "    node_list = []\n",
    "    new_tree = AnyNode(id=0, token=None, data=None)\n",
    "    create_tree(new_tree, ast, node_list)\n",
    "    x = []\n",
    "    edge_src = []\n",
    "    edge_tgt = []\n",
    "    edge_attr = []\n",
    "    # record variable tokens and ids to add data flow edge in AST graph\n",
    "    variable_token_list = []\n",
    "    variable_id_list = []\n",
    "    get_node_and_edge(new_tree, x, vocab_dict, edge_src, edge_tgt, variable_token_list, variable_id_list)\n",
    "    # print('variable_token_list', variable_token_list)\n",
    "    # print('variable_id_list', variable_id_list)\n",
    "\n",
    "    ast_edge_num = len(edge_src)\n",
    "    # print('ast_edge_num', ast_edge_num)\n",
    "    # set ast edge type to 0\n",
    "    for _ in range(ast_edge_num):\n",
    "        edge_attr.append([0])\n",
    "\n",
    "    # add data flow edge\n",
    "    variable_dict = {}\n",
    "    for i in range(len(variable_token_list)):\n",
    "        # print('variable_dict', variable_dict)\n",
    "        if variable_token_list[i] not in variable_dict:\n",
    "            variable_dict.setdefault(variable_token_list[i], variable_id_list[i])\n",
    "        else:\n",
    "            # print('edge', variable_dict.get(variable_token_list[i]), variable_id_list[i])\n",
    "            edge_src.append(variable_dict.get(variable_token_list[i]))\n",
    "            edge_tgt.append(variable_id_list[i])\n",
    "            edge_src.append(variable_id_list[i])\n",
    "            edge_tgt.append(variable_dict.get(variable_token_list[i]))\n",
    "            variable_dict[variable_token_list[i]] = variable_id_list[i]\n",
    "    \n",
    "    edge_index = [edge_src, edge_tgt]\n",
    "\n",
    "    # set data flow edge type to 1\n",
    "    dataflow_edge_num = len(edge_src) - ast_edge_num\n",
    "    for _ in range(dataflow_edge_num):\n",
    "        edge_attr.append([1])\n",
    "    # print('dataflow_edge_num', dataflow_edge_num)\n",
    "    return x, edge_index, edge_attr"
   ]
  },
  {
   "cell_type": "markdown",
   "metadata": {},
   "source": [
    "Batch Data"
   ]
  },
  {
   "cell_type": "code",
   "execution_count": 20,
   "metadata": {},
   "outputs": [],
   "source": [
    "def transform_to_pygdata(code):\n",
    "    ast = parse_program(code)\n",
    "    x, edge_index, edge_attr = get_pyg_data_from_ast(ast, vocab_astnodes)\n",
    "    return Data(x=torch.tensor(x, dtype=torch.long),\n",
    "                    edge_index=torch.tensor(edge_index, dtype=torch.long),\n",
    "                    edge_attr=torch.tensor(edge_attr, dtype=torch.long))\n"
   ]
  },
  {
   "cell_type": "code",
   "execution_count": 21,
   "metadata": {},
   "outputs": [],
   "source": [
    "pyg_datas = []\n",
    "for index in raw_code_index:\n",
    "    pyg_datas.append(transform_to_pygdata(raw_code['func'][index]))\n",
    "\n",
    "raw_code['pyg_data'] = pyg_datas"
   ]
  },
  {
   "cell_type": "code",
   "execution_count": 22,
   "metadata": {},
   "outputs": [
    {
     "data": {
      "text/plain": [
       "Data(edge_attr=[3752, 1], edge_index=[2, 3752], x=[1774, 1])"
      ]
     },
     "execution_count": 22,
     "metadata": {},
     "output_type": "execute_result"
    }
   ],
   "source": [
    "raw_code['pyg_data'][10000832]"
   ]
  },
  {
   "cell_type": "code",
   "execution_count": 23,
   "metadata": {},
   "outputs": [],
   "source": [
    "class PairData(Data):\n",
    "    def __init__(self, edge_index_s, edge_attr_s, x_s, edge_index_t, edge_attr_t, x_t, label):\n",
    "        super(PairData, self).__init__()\n",
    "        self.edge_index_s = edge_index_s\n",
    "        self.edge_attr_s = edge_attr_s\n",
    "        self.x_s = x_s\n",
    "        self.edge_index_t = edge_index_t\n",
    "        self.edge_attr_t = edge_attr_t\n",
    "        self.x_t = x_t\n",
    "        self.label = label\n",
    "    \n",
    "    def __inc__(self, key, value):\n",
    "        if key == 'edge_index_s':\n",
    "            return self.x_s.size(0)\n",
    "        if key == 'edge_index_t':\n",
    "            return self.x_t.size(0)\n",
    "        # if key == 'edge_attr_s':\n",
    "        #     return self.x_s.size(0)\n",
    "        # if key == 'edge_attr_t':\n",
    "        #     return self.x_t.size(0)\n",
    "        # if key == 'label':\n",
    "        #     return self.x_s.size(0)\n",
    "        else:\n",
    "            return super().__inc__(key, value)\n",
    "    "
   ]
  },
  {
   "cell_type": "code",
   "execution_count": 24,
   "metadata": {},
   "outputs": [],
   "source": [
    "def batch_data(data):\n",
    "    batches = []\n",
    "    for i in range(len(data)):\n",
    "        pyg1 = raw_code['pyg_data'][data[i][0]]\n",
    "        pyg2 = raw_code['pyg_data'][data[i][1]]\n",
    "        label = torch.tensor(data[i][2], dtype=torch.long)\n",
    "        # print('attr 1', pyg1.edge_attr)\n",
    "        # print('attr 2', pyg2.edge_attr)\n",
    "        pair_data = PairData(x_s=pyg1.x, edge_index_s=pyg1.edge_index, edge_attr_s = pyg1.edge_attr,\n",
    "                                x_t=pyg2.x, edge_index_t=pyg2.edge_index, edge_attr_t = pyg2.edge_attr,\n",
    "                                label=label)\n",
    "        batches.append(pair_data)    \n",
    "    return batches"
   ]
  },
  {
   "cell_type": "code",
   "execution_count": 25,
   "metadata": {},
   "outputs": [],
   "source": [
    "train_batch = batch_data(train_data_small)\n",
    "valid_batch = batch_data(valid_data_small)\n",
    "test_batch = batch_data(test_data_small)"
   ]
  },
  {
   "cell_type": "code",
   "execution_count": 26,
   "metadata": {},
   "outputs": [],
   "source": [
    "train_loader = DataLoader(train_batch, batch_size=batch_size, follow_batch=['x_s', 'x_t'])\n",
    "valid_loader = DataLoader(valid_batch, batch_size=batch_size, follow_batch=['x_s', 'x_t'])\n",
    "test_loader = DataLoader(test_batch, batch_size=batch_size, follow_batch=['x_s', 'x_t'])"
   ]
  },
  {
   "cell_type": "markdown",
   "metadata": {},
   "source": [
    "Model"
   ]
  },
  {
   "cell_type": "code",
   "execution_count": 27,
   "metadata": {},
   "outputs": [],
   "source": [
    "# partitioning D-AST in model instead of data-prepocessing\n",
    "# partitioning D-AST in model by the num of nodes, which is set in the hyper-parameter `divide_node_num`"
   ]
  },
  {
   "cell_type": "code",
   "execution_count": 28,
   "metadata": {},
   "outputs": [],
   "source": [
    "class SequenceGNNEncoder(torch.nn.Module):\n",
    "    def __init__(self, vocab_len, graph_embedding_size, gnn_layers_num, lstm_layers_num, lstm_hidden_size, divide_node_num,\n",
    "                    decoder_input_size, gine_dim, device):\n",
    "        super(SequenceGNNEncoder, self).__init__()\n",
    "        self.device = device\n",
    "        self.embed = Embedding(vocab_len, graph_embedding_size)\n",
    "        self.edge_embed = Embedding(2, 1) # only two edge types to be set weights, which are AST edge and data flow edge, and the weight in GGNN is a scalar\n",
    "        self.edge_embed2 = Embedding(2, graph_embedding_size) # GINE requires node and edge features to be of same dimensionality\n",
    "        \n",
    "        # use LSTM to obtain subgraph output at each time step\n",
    "        self.divide_node_num = divide_node_num\n",
    "        self.lstm = LSTM(input_size=graph_embedding_size, hidden_size=lstm_hidden_size, num_layers=lstm_layers_num)\n",
    "        self.lstm_hidden_size = lstm_hidden_size\n",
    "        self.lstm_layers_num = lstm_layers_num\n",
    "        self.fc = Linear(graph_embedding_size, decoder_input_size)\n",
    "\n",
    "        # GatedGraphConv + GlobalAttention \n",
    "        self.ggnnlayer = GatedGraphConv(graph_embedding_size, gnn_layers_num)\n",
    "        self.gate_nn = Sequential(Linear(graph_embedding_size, graph_embedding_size), ReLU(), Linear(graph_embedding_size, 1), ReLU())\n",
    "        self.nn = Sequential(Linear(graph_embedding_size, graph_embedding_size), ReLU())\n",
    "        self.pool = GlobalAttention(gate_nn=self.gate_nn, nn=self.nn)\n",
    "\n",
    "        # GINEConv\n",
    "        self.gine_dim = gine_dim\n",
    "        self.conv1 = GINEConv(Sequential(Linear(graph_embedding_size, gine_dim), BatchNorm1d(gine_dim), \n",
    "                                            ReLU(), Linear(gine_dim, gine_dim), ReLU()))\n",
    "        self.conv2 = GINEConv(Sequential(Linear(gine_dim, gine_dim), BatchNorm1d(gine_dim), \n",
    "                                            ReLU(), Linear(gine_dim, gine_dim), ReLU()))  \n",
    "        self.conv3 = GINEConv(Sequential(Linear(gine_dim, gine_dim), BatchNorm1d(gine_dim), \n",
    "                                            ReLU(), Linear(gine_dim, gine_dim), ReLU()))  \n",
    "        self.conv4 = GINEConv(Sequential(Linear(gine_dim, gine_dim), BatchNorm1d(gine_dim), \n",
    "                                            ReLU(), Linear(gine_dim, gine_dim), ReLU()))  \n",
    "        self.conv5 = GINEConv(Sequential(Linear(gine_dim, gine_dim), BatchNorm1d(gine_dim), \n",
    "                                            ReLU(), Linear(gine_dim, gine_dim), ReLU()))\n",
    "        self.lin1 = Linear(gine_dim, gine_dim)\n",
    "        self.lin2 = Linear(gine_dim, graph_embedding_size)\n",
    "        self.lin3 = Linear(graph_embedding_size, gine_dim)                                                                                                                                        \n",
    "\n",
    "    # GatedGraphConv + GlobalAttention    \n",
    "    def subgraph_forward(self, x, edge_index, edge_attr, batch):\n",
    "        # print('edge_attr', edge_attr)\n",
    "        # print('shape', edge_attr.shape)\n",
    "        if type(edge_attr) == type(None):\n",
    "            edge_weight = None\n",
    "        else:\n",
    "            edge_weight = self.edge_embed(edge_attr)\n",
    "            edge_weight = edge_weight.squeeze(1)\n",
    "        x = self.ggnnlayer(x, edge_index, edge_weight)\n",
    "        return self.pool(x, batch=batch)\n",
    "\n",
    "    # GINEConv\n",
    "    # def subgraph_forward(self, x, edge_index, edge_attr, batch):\n",
    "    #     if type(edge_attr) == type(None):\n",
    "    #         edge_weight = None\n",
    "    #     else:\n",
    "    #         edge_weight = self.edge_embed2(edge_attr)\n",
    "    #         edge_weight = edge_weight.squeeze(1)\n",
    "    #     x = self.conv1(x, edge_index, edge_weight)\n",
    "    #     edge_weight = self.lin3(edge_weight)\n",
    "    #     x = self.conv2(x, edge_index, edge_weight)\n",
    "    #     x = self.conv3(x, edge_index, edge_weight)\n",
    "    #     x = self.conv4(x, edge_index, edge_weight)\n",
    "    #     x = self.conv5(x, edge_index, edge_weight)\n",
    "    #     x = global_add_pool(x, batch=batch)\n",
    "    #     x = self.lin1(x).relu()\n",
    "    #     x = F.dropout(x, p=0.5, training=self.training)\n",
    "    #     x = self.lin2(x)\n",
    "    #     return x\n",
    "    \n",
    "    # ResGatedGraphConv\n",
    "    \n",
    "\n",
    "    \n",
    "    # partitioning multiple subgraphs by dynamic allocating edges\n",
    "    def partition_graph(self, x, edge_index, edge_attr, batch):        \n",
    "        nodes_list = [] # record all nodes number for each subgraph in total batch\n",
    "        graph_pos_in_batch, graph_length = self.get_subgraph_info_from_batch(batch)\n",
    "        max_seq_len = max(graph_length)\n",
    "        subgraph_num = int(max_seq_len/self.divide_node_num) + 1\n",
    "        for i in range(subgraph_num):\n",
    "            nodes = []\n",
    "            for j in range(len(graph_pos_in_batch)):\n",
    "                if graph_length[j] > i * self.divide_node_num:\n",
    "                    if graph_length[j] > (i+1) * self.divide_node_num:\n",
    "                        subgraph_len = self.divide_node_num\n",
    "                    else:\n",
    "                        subgraph_len = graph_length[j] - i * self.divide_node_num   \n",
    "                    for m in range(subgraph_len):\n",
    "                        nodes.append(graph_pos_in_batch[j] + m)          \n",
    "            nodes_list.append(set(nodes)) \n",
    "        # only count the edge whose target node in subgraph\n",
    "        sub_edge_src = [[] for _ in range(subgraph_num)]\n",
    "        sub_edge_tgt = [[] for _ in range(subgraph_num)]\n",
    "        sub_edge_attr = [[] for _ in range(subgraph_num)]\n",
    "        # print('nodes_list', nodes_list)\n",
    "        node_num = len(x)\n",
    "        node_subgraph_index = [0 for _ in range(node_num)] # use a list to store the subgraph numbers for all nodes\n",
    "        for i in range(len(nodes_list)):\n",
    "            for node in nodes_list[i]:\n",
    "                node_subgraph_index[node] = i\n",
    "    \n",
    "        for i in range(len(edge_index[1])):\n",
    "            src = edge_index[0][i].item()\n",
    "            tgt = edge_index[1][i].item()\n",
    "            sub_edge_src[node_subgraph_index[tgt]].append(src)\n",
    "            sub_edge_tgt[node_subgraph_index[tgt]].append(tgt)\n",
    "            sub_edge_attr[node_subgraph_index[tgt]].append(edge_attr[i].item())\n",
    "        edge_index_list = []\n",
    "        edge_attr_list = []\n",
    "        for i in range(subgraph_num):\n",
    "            edge_index_list.append(torch.tensor([sub_edge_src[i], sub_edge_tgt[i]], dtype=torch.long))\n",
    "            edge_attr_list.append(torch.tensor(sub_edge_attr[i], dtype=torch.long))\n",
    "        return edge_index_list, edge_attr_list\n",
    "\n",
    "    def get_subgraph_info_from_batch(self, batch):\n",
    "        comp = 0\n",
    "        pos = 0\n",
    "        graph_pos_in_batch = [0] # record begin positions and end positions of every subgraph\n",
    "        graph_length = [] # use a list to store the node nums in subgraph\n",
    "        for i in range(len(batch)):\n",
    "            if batch[i] != comp:\n",
    "                graph_pos_in_batch.append(i)\n",
    "                graph_length.append(i-pos)\n",
    "                comp = batch[i]\n",
    "                pos = i\n",
    "        graph_length.append(len(batch)-pos)\n",
    "        return graph_pos_in_batch, graph_length        \n",
    "\n",
    "    def forward(self, x, edge_index, edge_attr, batch):\n",
    "        # edge_index_list, edge_attr_list = self.partition_graph(x, edge_index, edge_attr, batch)\n",
    "        x = self.embed(x)\n",
    "        x = x.squeeze(1)\n",
    "        # subgraph_pool_list = [\n",
    "        #     self.subgraph_forward(x, edge_index_list[i].to(self.device), edge_attr_list[i].to(self.device), batch)\n",
    "        #     for i in range(len(edge_index_list))\n",
    "        # ]\n",
    "        graph_pool = self.subgraph_forward(x, edge_index, edge_attr, batch)\n",
    "        # subgraph_pool_seq = torch.stack(subgraph_pool_list)\n",
    "        # h0 = torch.zeros(self.lstm_layers_num, subgraph_pool_seq.size(1), self.lstm_hidden_size).to(self.device)\n",
    "        # c0 = torch.zeros(self.lstm_layers_num, subgraph_pool_seq.size(1), self.lstm_hidden_size).to(self.device)\n",
    "        # subgraph_output, (_, _) = self.lstm(subgraph_pool_seq, (h0, c0))\n",
    "        return self.fc(graph_pool)\n",
    "        \n",
    "            "
   ]
  },
  {
   "cell_type": "code",
   "execution_count": 29,
   "metadata": {},
   "outputs": [],
   "source": [
    "class SiameseDecoder(Module):\n",
    "    def __init__(self, vocab_len, graph_embedding_size, gnn_layers_num, lstm_layers_num, lstm_hidden_size, divide_node_num, \n",
    "    decoder_input_size, gine_dim, device):\n",
    "        super(SiameseDecoder, self).__init__()\n",
    "        self.encoder = SequenceGNNEncoder(vocab_len, graph_embedding_size, gnn_layers_num, lstm_layers_num, lstm_hidden_size, divide_node_num, \n",
    "    decoder_input_size, gine_dim, device)\n",
    "        self.fc = Linear(2* decoder_input_size, 2)\n",
    "    \n",
    "    def forward(self, x_s, edge_index_s, edge_attr_s, x_t, edge_index_t, edge_attr_t, x_s_batch, x_t_batch):\n",
    "        decoder_input1 = self.encoder(x_s, edge_index_s, edge_attr_s, x_s_batch)\n",
    "        decoder_input2 = self.encoder(x_t, edge_index_t, edge_attr_t, x_t_batch)\n",
    "        output = torch.cat((decoder_input1, decoder_input2), dim=1)\n",
    "        logits = self.fc(output) \n",
    "        return F.softmax(logits)      \n"
   ]
  },
  {
   "cell_type": "markdown",
   "metadata": {},
   "source": [
    "Training"
   ]
  },
  {
   "cell_type": "code",
   "execution_count": 30,
   "metadata": {},
   "outputs": [],
   "source": [
    "device = torch.device('cuda: 0')\n",
    "\n",
    "model_args = {\n",
    "    'vocab_len': vocab_astnodes_size,\n",
    "    'graph_embedding_size': graph_embedding_size,\n",
    "    'gnn_layers_num': gnn_layers_num,\n",
    "    'lstm_layers_num': lstm_layers_num,\n",
    "    'lstm_hidden_size': lstm_hidden_size,\n",
    "    'divide_node_num': divide_node_num,\n",
    "    'decoder_input_size': decoder_input_size,\n",
    "    'gine_dim': gine_dim,\n",
    "    'device': device\n",
    "}\n",
    "\n",
    "model = SiameseDecoder(**model_args).to(device)\n",
    "optimizer = optim.Adam(model.parameters(), lr=lr)\n",
    "scheduler = optim.lr_scheduler.LambdaLR(optimizer, lr_lambda= lambda epoch: decay_ratio ** epoch)"
   ]
  },
  {
   "cell_type": "code",
   "execution_count": 31,
   "metadata": {},
   "outputs": [
    {
     "name": "stdout",
     "output_type": "stream",
     "text": [
      "=================================================================\n",
      "Layer (type:depth-idx)                   Param #\n",
      "=================================================================\n",
      "├─SequenceGNNEncoder: 1-1                --\n",
      "|    └─Embedding: 2-1                    5,486,600\n",
      "|    └─Embedding: 2-2                    2\n",
      "|    └─Embedding: 2-3                    200\n",
      "|    └─LSTM: 2-4                         381,952\n",
      "|    └─Linear: 2-5                       30,300\n",
      "|    └─GatedGraphConv: 2-6               --\n",
      "|    |    └─GRUCell: 3-1                 60,600\n",
      "|    └─Sequential: 2-7                   --\n",
      "|    |    └─Linear: 3-2                  10,100\n",
      "|    |    └─ReLU: 3-3                    --\n",
      "|    |    └─Linear: 3-4                  101\n",
      "|    |    └─ReLU: 3-5                    --\n",
      "|    └─Sequential: 2-8                   --\n",
      "|    |    └─Linear: 3-6                  10,100\n",
      "|    |    └─ReLU: 3-7                    --\n",
      "|    └─GlobalAttention: 2-9              --\n",
      "|    |    └─Sequential: 3-8              (recursive)\n",
      "|    |    └─Sequential: 3-9              (recursive)\n",
      "|    └─GINEConv: 2-10                    --\n",
      "|    |    └─Sequential: 3-10             29,696\n",
      "|    └─GINEConv: 2-11                    --\n",
      "|    |    └─Sequential: 3-11             33,280\n",
      "|    └─GINEConv: 2-12                    --\n",
      "|    |    └─Sequential: 3-12             33,280\n",
      "|    └─GINEConv: 2-13                    --\n",
      "|    |    └─Sequential: 3-13             33,280\n",
      "|    └─GINEConv: 2-14                    --\n",
      "|    |    └─Sequential: 3-14             33,280\n",
      "|    └─Linear: 2-15                      16,512\n",
      "|    └─Linear: 2-16                      12,900\n",
      "|    └─Linear: 2-17                      12,928\n",
      "├─Linear: 1-2                            1,202\n",
      "=================================================================\n",
      "Total params: 6,186,313\n",
      "Trainable params: 6,186,313\n",
      "Non-trainable params: 0\n",
      "=================================================================\n"
     ]
    }
   ],
   "source": [
    "model_summary = summary(model)"
   ]
  },
  {
   "cell_type": "code",
   "execution_count": 32,
   "metadata": {},
   "outputs": [],
   "source": [
    "criterion = CrossEntropyLoss()"
   ]
  },
  {
   "cell_type": "code",
   "execution_count": 33,
   "metadata": {},
   "outputs": [],
   "source": [
    "def compute_loss(data, model, optimizer=None, is_train=True):\n",
    "    x_s = (data.x_s).to(device)\n",
    "    edge_index_s = (data.edge_index_s).to(device)\n",
    "    edge_attr_s = (data.edge_attr_s).to(device)\n",
    "    x_t = (data.x_t).to(device)\n",
    "    edge_index_t = (data.edge_index_t).to(device)\n",
    "    edge_attr_t = (data.edge_attr_t).to(device)\n",
    "    x_s_batch = (data.x_s_batch).to(device)\n",
    "    x_t_batch = (data.x_t_batch).to(device)\n",
    "    label = (data.label).to(device)\n",
    "    pred = model(x_s, edge_index_s, edge_attr_s, x_t, edge_index_t, edge_attr_t, x_s_batch, x_t_batch)\n",
    "    loss = criterion(pred, label)\n",
    "\n",
    "    if is_train:\n",
    "        optimizer.zero_grad()\n",
    "        loss.backward()\n",
    "        optimizer.step()    \n",
    "    \n",
    "    return loss.item(), label.cpu().detach().numpy(), pred.cpu().detach().numpy()"
   ]
  },
  {
   "cell_type": "code",
   "execution_count": 34,
   "metadata": {},
   "outputs": [],
   "source": [
    "class EarlyStopping(object):\n",
    "    def __init__(self, filename = None, patience=3, warm_up=0, verbose=False):\n",
    "\n",
    "        self.patience = patience\n",
    "        self.verbose = verbose\n",
    "        self.counter = 0\n",
    "        self.best_score = None\n",
    "        self.early_stop = False\n",
    "        self.warm_up = warm_up\n",
    "        self.filename = filename\n",
    "\n",
    "    def __call__(self, score, model, epoch):\n",
    "\n",
    "        if self.best_score is None:\n",
    "            self.best_score = score\n",
    "            self.save_checkpoint(score, model)\n",
    "            \n",
    "        elif (score <= self.best_score) and (epoch > self.warm_up) :\n",
    "            self.counter += 1\n",
    "            print(f'EarlyStopping counter: {self.counter} out of {self.patience}')\n",
    "            if self.counter >= self.patience:\n",
    "                self.early_stop = True\n",
    "        else:\n",
    "            if (epoch <= self.warm_up):\n",
    "                print('Warming up until epoch', self.warm_up)\n",
    "            \n",
    "            else:\n",
    "                if self.verbose:\n",
    "                    print(f'Score improved. ({self.best_score:.6f} --> {score:.6f}).')\n",
    "                \n",
    "                self.best_score = score\n",
    "                self.save_checkpoint(score, model)\n",
    "                self.counter = 0\n",
    "\n",
    "    def save_checkpoint(self, score, model):\n",
    "        \n",
    "        if self.filename is not None:\n",
    "            torch.save(model.state_dict(), self.filename)\n",
    "            \n",
    "        if self.verbose:\n",
    "            print('Model saved...')"
   ]
  },
  {
   "cell_type": "code",
   "execution_count": 35,
   "metadata": {},
   "outputs": [],
   "source": [
    "fname = exp_dir + save_name\n",
    "early_stopping = EarlyStopping(fname, patience, warm_up, verbose=True)"
   ]
  },
  {
   "cell_type": "code",
   "execution_count": 36,
   "metadata": {},
   "outputs": [],
   "source": [
    "import numpy as np\n",
    "from sklearn.metrics import recall_score\n",
    "from sklearn.metrics import precision_score\n",
    "from sklearn.metrics import f1_score\n",
    "\n",
    "def calculate(logits, y_trues):\n",
    "    logits=np.concatenate(logits,0)\n",
    "    y_trues=np.concatenate(y_trues,0)\n",
    "    best_threshold=0\n",
    "    best_f1=0\n",
    "    for i in range(1,100):\n",
    "        threshold=i/100\n",
    "        y_preds=logits[:,1]>threshold        \n",
    "        recall=recall_score(y_trues, y_preds, average='macro')        \n",
    "        precision=precision_score(y_trues, y_preds, average='macro')           \n",
    "        f1=f1_score(y_trues, y_preds, average='macro') \n",
    "        if f1>best_f1:\n",
    "            best_f1=f1\n",
    "            best_threshold=threshold\n",
    "\n",
    "    y_preds=logits[:,1]>best_threshold\n",
    "    recall=recall_score(y_trues, y_preds, average='macro')\n",
    "    precision=precision_score(y_trues, y_preds, average='macro')   \n",
    "    f1=f1_score(y_trues, y_preds, average='macro')\n",
    "    return recall, precision, f1\n"
   ]
  },
  {
   "cell_type": "code",
   "execution_count": 37,
   "metadata": {},
   "outputs": [
    {
     "data": {
      "application/vnd.jupyter.widget-view+json": {
       "model_id": "e0bafbe310e4438eb48c5633140ad0d8",
       "version_major": 2,
       "version_minor": 0
      },
      "text/plain": [
       "HBox(children=(IntProgress(value=0, description='TRAIN', max=3378, style=ProgressStyle(description_width='init…"
      ]
     },
     "metadata": {},
     "output_type": "display_data"
    },
    {
     "name": "stdout",
     "output_type": "stream",
     "text": [
      "\n"
     ]
    },
    {
     "data": {
      "application/vnd.jupyter.widget-view+json": {
       "model_id": "672ee5e2584049f08907c5c499b3fc6f",
       "version_major": 2,
       "version_minor": 0
      },
      "text/plain": [
       "HBox(children=(IntProgress(value=0, description='VALID', max=1574, style=ProgressStyle(description_width='init…"
      ]
     },
     "metadata": {},
     "output_type": "display_data"
    },
    {
     "name": "stdout",
     "output_type": "stream",
     "text": [
      "\n",
      "dgnn Epoch 1: train_loss:  0.45 train_recall: 0.8640 train_precision: 0.8894  train_f1: 0.8619  valid_loss:  0.36  valid_recall: 0.8407 valid_precision: 0.9641 valid_f1: 0.8894\n",
      "Model saved...\n",
      "--------------------------------------------------------------------------------\n"
     ]
    },
    {
     "data": {
      "application/vnd.jupyter.widget-view+json": {
       "model_id": "74501e92b19e411fa0af65faf0d15231",
       "version_major": 2,
       "version_minor": 0
      },
      "text/plain": [
       "HBox(children=(IntProgress(value=0, description='TRAIN', max=3378, style=ProgressStyle(description_width='init…"
      ]
     },
     "metadata": {},
     "output_type": "display_data"
    },
    {
     "name": "stdout",
     "output_type": "stream",
     "text": [
      "\n"
     ]
    },
    {
     "data": {
      "application/vnd.jupyter.widget-view+json": {
       "model_id": "56fab05943f64322aeb224c52a1f3364",
       "version_major": 2,
       "version_minor": 0
      },
      "text/plain": [
       "HBox(children=(IntProgress(value=0, description='VALID', max=1574, style=ProgressStyle(description_width='init…"
      ]
     },
     "metadata": {},
     "output_type": "display_data"
    },
    {
     "name": "stdout",
     "output_type": "stream",
     "text": [
      "\n",
      "dgnn Epoch 2: train_loss:  0.44 train_recall: 0.8700 train_precision: 0.8969  train_f1: 0.8679  valid_loss:  0.36  valid_recall: 0.8407 valid_precision: 0.9642 valid_f1: 0.8894\n",
      "Warming up until epoch 5\n",
      "--------------------------------------------------------------------------------\n"
     ]
    },
    {
     "data": {
      "application/vnd.jupyter.widget-view+json": {
       "model_id": "21f8c637e093421e94ed0d82acb122d3",
       "version_major": 2,
       "version_minor": 0
      },
      "text/plain": [
       "HBox(children=(IntProgress(value=0, description='TRAIN', max=3378, style=ProgressStyle(description_width='init…"
      ]
     },
     "metadata": {},
     "output_type": "display_data"
    },
    {
     "name": "stdout",
     "output_type": "stream",
     "text": [
      "\n"
     ]
    },
    {
     "data": {
      "application/vnd.jupyter.widget-view+json": {
       "model_id": "2378ac9120e841daadb2461f178428b5",
       "version_major": 2,
       "version_minor": 0
      },
      "text/plain": [
       "HBox(children=(IntProgress(value=0, description='VALID', max=1574, style=ProgressStyle(description_width='init…"
      ]
     },
     "metadata": {},
     "output_type": "display_data"
    },
    {
     "name": "stdout",
     "output_type": "stream",
     "text": [
      "\n",
      "dgnn Epoch 3: train_loss:  0.44 train_recall: 0.8700 train_precision: 0.8969  train_f1: 0.8679  valid_loss:  0.36  valid_recall: 0.8407 valid_precision: 0.9642 valid_f1: 0.8894\n",
      "Warming up until epoch 5\n",
      "--------------------------------------------------------------------------------\n"
     ]
    },
    {
     "data": {
      "application/vnd.jupyter.widget-view+json": {
       "model_id": "4bd4699ec595486897bfa0e4c161f815",
       "version_major": 2,
       "version_minor": 0
      },
      "text/plain": [
       "HBox(children=(IntProgress(value=0, description='TRAIN', max=3378, style=ProgressStyle(description_width='init…"
      ]
     },
     "metadata": {},
     "output_type": "display_data"
    },
    {
     "name": "stdout",
     "output_type": "stream",
     "text": [
      "\n"
     ]
    },
    {
     "data": {
      "application/vnd.jupyter.widget-view+json": {
       "model_id": "b646155bb63c446399a6ac13883ae4a5",
       "version_major": 2,
       "version_minor": 0
      },
      "text/plain": [
       "HBox(children=(IntProgress(value=0, description='VALID', max=1574, style=ProgressStyle(description_width='init…"
      ]
     },
     "metadata": {},
     "output_type": "display_data"
    },
    {
     "name": "stdout",
     "output_type": "stream",
     "text": [
      "\n",
      "dgnn Epoch 4: train_loss:  0.44 train_recall: 0.8700 train_precision: 0.8969  train_f1: 0.8679  valid_loss:  0.36  valid_recall: 0.8407 valid_precision: 0.9642 valid_f1: 0.8894\n",
      "Warming up until epoch 5\n",
      "--------------------------------------------------------------------------------\n"
     ]
    },
    {
     "data": {
      "application/vnd.jupyter.widget-view+json": {
       "model_id": "e0624abd10564f2cb6035c9983847371",
       "version_major": 2,
       "version_minor": 0
      },
      "text/plain": [
       "HBox(children=(IntProgress(value=0, description='TRAIN', max=3378, style=ProgressStyle(description_width='init…"
      ]
     },
     "metadata": {},
     "output_type": "display_data"
    },
    {
     "name": "stdout",
     "output_type": "stream",
     "text": [
      "\n"
     ]
    },
    {
     "data": {
      "application/vnd.jupyter.widget-view+json": {
       "model_id": "f9b146fc26294c0fb92fa0c5c84efc10",
       "version_major": 2,
       "version_minor": 0
      },
      "text/plain": [
       "HBox(children=(IntProgress(value=0, description='VALID', max=1574, style=ProgressStyle(description_width='init…"
      ]
     },
     "metadata": {},
     "output_type": "display_data"
    },
    {
     "name": "stdout",
     "output_type": "stream",
     "text": [
      "\n",
      "dgnn Epoch 5: train_loss:  0.44 train_recall: 0.8700 train_precision: 0.8969  train_f1: 0.8679  valid_loss:  0.36  valid_recall: 0.8407 valid_precision: 0.9642 valid_f1: 0.8894\n",
      "Warming up until epoch 5\n",
      "--------------------------------------------------------------------------------\n"
     ]
    },
    {
     "data": {
      "application/vnd.jupyter.widget-view+json": {
       "model_id": "414a5a3aedcc46c0a28aafd11416983a",
       "version_major": 2,
       "version_minor": 0
      },
      "text/plain": [
       "HBox(children=(IntProgress(value=0, description='TRAIN', max=3378, style=ProgressStyle(description_width='init…"
      ]
     },
     "metadata": {},
     "output_type": "display_data"
    },
    {
     "name": "stdout",
     "output_type": "stream",
     "text": [
      "\n"
     ]
    },
    {
     "data": {
      "application/vnd.jupyter.widget-view+json": {
       "model_id": "3d80e672989540bca026a00f9d29bcca",
       "version_major": 2,
       "version_minor": 0
      },
      "text/plain": [
       "HBox(children=(IntProgress(value=0, description='VALID', max=1574, style=ProgressStyle(description_width='init…"
      ]
     },
     "metadata": {},
     "output_type": "display_data"
    },
    {
     "name": "stdout",
     "output_type": "stream",
     "text": [
      "\n",
      "dgnn Epoch 6: train_loss:  0.44 train_recall: 0.8700 train_precision: 0.8969  train_f1: 0.8679  valid_loss:  0.36  valid_recall: 0.8407 valid_precision: 0.9642 valid_f1: 0.8894\n",
      "EarlyStopping counter: 1 out of 10\n",
      "--------------------------------------------------------------------------------\n"
     ]
    },
    {
     "data": {
      "application/vnd.jupyter.widget-view+json": {
       "model_id": "da7e625161a8431299378bc482f3c4e0",
       "version_major": 2,
       "version_minor": 0
      },
      "text/plain": [
       "HBox(children=(IntProgress(value=0, description='TRAIN', max=3378, style=ProgressStyle(description_width='init…"
      ]
     },
     "metadata": {},
     "output_type": "display_data"
    },
    {
     "name": "stdout",
     "output_type": "stream",
     "text": [
      "\n"
     ]
    },
    {
     "data": {
      "application/vnd.jupyter.widget-view+json": {
       "model_id": "a35b4b71472a444f9d113af1f3e41f35",
       "version_major": 2,
       "version_minor": 0
      },
      "text/plain": [
       "HBox(children=(IntProgress(value=0, description='VALID', max=1574, style=ProgressStyle(description_width='init…"
      ]
     },
     "metadata": {},
     "output_type": "display_data"
    },
    {
     "name": "stdout",
     "output_type": "stream",
     "text": [
      "\n",
      "dgnn Epoch 7: train_loss:  0.44 train_recall: 0.8700 train_precision: 0.8969  train_f1: 0.8679  valid_loss:  0.36  valid_recall: 0.8407 valid_precision: 0.9642 valid_f1: 0.8894\n",
      "EarlyStopping counter: 2 out of 10\n",
      "--------------------------------------------------------------------------------\n"
     ]
    },
    {
     "data": {
      "application/vnd.jupyter.widget-view+json": {
       "model_id": "5f542dc0b10346aea02fe1d775ed82cf",
       "version_major": 2,
       "version_minor": 0
      },
      "text/plain": [
       "HBox(children=(IntProgress(value=0, description='TRAIN', max=3378, style=ProgressStyle(description_width='init…"
      ]
     },
     "metadata": {},
     "output_type": "display_data"
    },
    {
     "name": "stdout",
     "output_type": "stream",
     "text": [
      "\n"
     ]
    },
    {
     "data": {
      "application/vnd.jupyter.widget-view+json": {
       "model_id": "afbf45a903a149798067187f8e1c0688",
       "version_major": 2,
       "version_minor": 0
      },
      "text/plain": [
       "HBox(children=(IntProgress(value=0, description='VALID', max=1574, style=ProgressStyle(description_width='init…"
      ]
     },
     "metadata": {},
     "output_type": "display_data"
    },
    {
     "name": "stdout",
     "output_type": "stream",
     "text": [
      "\n",
      "dgnn Epoch 8: train_loss:  0.44 train_recall: 0.8700 train_precision: 0.8969  train_f1: 0.8679  valid_loss:  0.36  valid_recall: 0.8407 valid_precision: 0.9642 valid_f1: 0.8894\n",
      "EarlyStopping counter: 3 out of 10\n",
      "--------------------------------------------------------------------------------\n"
     ]
    },
    {
     "data": {
      "application/vnd.jupyter.widget-view+json": {
       "model_id": "428febc448604986a35b74ed6258ac1f",
       "version_major": 2,
       "version_minor": 0
      },
      "text/plain": [
       "HBox(children=(IntProgress(value=0, description='TRAIN', max=3378, style=ProgressStyle(description_width='init…"
      ]
     },
     "metadata": {},
     "output_type": "display_data"
    },
    {
     "name": "stdout",
     "output_type": "stream",
     "text": [
      "\n"
     ]
    },
    {
     "data": {
      "application/vnd.jupyter.widget-view+json": {
       "model_id": "0d1aa486e0e2408d9ce92d5262227a5e",
       "version_major": 2,
       "version_minor": 0
      },
      "text/plain": [
       "HBox(children=(IntProgress(value=0, description='VALID', max=1574, style=ProgressStyle(description_width='init…"
      ]
     },
     "metadata": {},
     "output_type": "display_data"
    },
    {
     "name": "stdout",
     "output_type": "stream",
     "text": [
      "\n",
      "dgnn Epoch 9: train_loss:  0.44 train_recall: 0.8700 train_precision: 0.8969  train_f1: 0.8679  valid_loss:  0.36  valid_recall: 0.8407 valid_precision: 0.9642 valid_f1: 0.8894\n",
      "EarlyStopping counter: 4 out of 10\n",
      "--------------------------------------------------------------------------------\n"
     ]
    },
    {
     "data": {
      "application/vnd.jupyter.widget-view+json": {
       "model_id": "8a117a594a6844a1959eedb9b2a6ecc9",
       "version_major": 2,
       "version_minor": 0
      },
      "text/plain": [
       "HBox(children=(IntProgress(value=0, description='TRAIN', max=3378, style=ProgressStyle(description_width='init…"
      ]
     },
     "metadata": {},
     "output_type": "display_data"
    },
    {
     "name": "stdout",
     "output_type": "stream",
     "text": [
      "\n"
     ]
    },
    {
     "data": {
      "application/vnd.jupyter.widget-view+json": {
       "model_id": "2948b22f6f8b4d00b9d8766a9219a679",
       "version_major": 2,
       "version_minor": 0
      },
      "text/plain": [
       "HBox(children=(IntProgress(value=0, description='VALID', max=1574, style=ProgressStyle(description_width='init…"
      ]
     },
     "metadata": {},
     "output_type": "display_data"
    },
    {
     "name": "stdout",
     "output_type": "stream",
     "text": [
      "\n",
      "dgnn Epoch 10: train_loss:  0.44 train_recall: 0.8700 train_precision: 0.8969  train_f1: 0.8679  valid_loss:  0.36  valid_recall: 0.8407 valid_precision: 0.9642 valid_f1: 0.8894\n",
      "EarlyStopping counter: 5 out of 10\n",
      "--------------------------------------------------------------------------------\n"
     ]
    },
    {
     "data": {
      "application/vnd.jupyter.widget-view+json": {
       "model_id": "f234c96c434e48269232eaca77072e7b",
       "version_major": 2,
       "version_minor": 0
      },
      "text/plain": [
       "HBox(children=(IntProgress(value=0, description='TRAIN', max=3378, style=ProgressStyle(description_width='init…"
      ]
     },
     "metadata": {},
     "output_type": "display_data"
    },
    {
     "name": "stdout",
     "output_type": "stream",
     "text": [
      "\n"
     ]
    },
    {
     "data": {
      "application/vnd.jupyter.widget-view+json": {
       "model_id": "03809c082c8e425e98064c52940aaf2c",
       "version_major": 2,
       "version_minor": 0
      },
      "text/plain": [
       "HBox(children=(IntProgress(value=0, description='VALID', max=1574, style=ProgressStyle(description_width='init…"
      ]
     },
     "metadata": {},
     "output_type": "display_data"
    },
    {
     "name": "stdout",
     "output_type": "stream",
     "text": [
      "\n",
      "dgnn Epoch 11: train_loss:  0.44 train_recall: 0.8700 train_precision: 0.8969  train_f1: 0.8679  valid_loss:  0.36  valid_recall: 0.8407 valid_precision: 0.9642 valid_f1: 0.8894\n",
      "EarlyStopping counter: 6 out of 10\n",
      "--------------------------------------------------------------------------------\n"
     ]
    },
    {
     "data": {
      "application/vnd.jupyter.widget-view+json": {
       "model_id": "486a1bd31bd84361a6478c04e8a6c459",
       "version_major": 2,
       "version_minor": 0
      },
      "text/plain": [
       "HBox(children=(IntProgress(value=0, description='TRAIN', max=3378, style=ProgressStyle(description_width='init…"
      ]
     },
     "metadata": {},
     "output_type": "display_data"
    },
    {
     "name": "stdout",
     "output_type": "stream",
     "text": [
      "\n"
     ]
    },
    {
     "data": {
      "application/vnd.jupyter.widget-view+json": {
       "model_id": "8da14159553647d0bb7aaf56e6b4f5d2",
       "version_major": 2,
       "version_minor": 0
      },
      "text/plain": [
       "HBox(children=(IntProgress(value=0, description='VALID', max=1574, style=ProgressStyle(description_width='init…"
      ]
     },
     "metadata": {},
     "output_type": "display_data"
    },
    {
     "name": "stdout",
     "output_type": "stream",
     "text": [
      "\n",
      "dgnn Epoch 12: train_loss:  0.44 train_recall: 0.8700 train_precision: 0.8969  train_f1: 0.8679  valid_loss:  0.36  valid_recall: 0.8407 valid_precision: 0.9642 valid_f1: 0.8894\n",
      "EarlyStopping counter: 7 out of 10\n",
      "--------------------------------------------------------------------------------\n"
     ]
    },
    {
     "data": {
      "application/vnd.jupyter.widget-view+json": {
       "model_id": "299c9e0a6ae2407c89a809bf80b62543",
       "version_major": 2,
       "version_minor": 0
      },
      "text/plain": [
       "HBox(children=(IntProgress(value=0, description='TRAIN', max=3378, style=ProgressStyle(description_width='init…"
      ]
     },
     "metadata": {},
     "output_type": "display_data"
    },
    {
     "name": "stdout",
     "output_type": "stream",
     "text": [
      "\n"
     ]
    },
    {
     "data": {
      "application/vnd.jupyter.widget-view+json": {
       "model_id": "6210a79d645347888d71e13ab2750883",
       "version_major": 2,
       "version_minor": 0
      },
      "text/plain": [
       "HBox(children=(IntProgress(value=0, description='VALID', max=1574, style=ProgressStyle(description_width='init…"
      ]
     },
     "metadata": {},
     "output_type": "display_data"
    },
    {
     "name": "stdout",
     "output_type": "stream",
     "text": [
      "\n",
      "dgnn Epoch 13: train_loss:  0.44 train_recall: 0.8700 train_precision: 0.8969  train_f1: 0.8679  valid_loss:  0.36  valid_recall: 0.8407 valid_precision: 0.9642 valid_f1: 0.8894\n",
      "EarlyStopping counter: 8 out of 10\n",
      "--------------------------------------------------------------------------------\n"
     ]
    },
    {
     "data": {
      "application/vnd.jupyter.widget-view+json": {
       "model_id": "65f16cf08e5d47c4b790b64a55d6c8e6",
       "version_major": 2,
       "version_minor": 0
      },
      "text/plain": [
       "HBox(children=(IntProgress(value=0, description='TRAIN', max=3378, style=ProgressStyle(description_width='init…"
      ]
     },
     "metadata": {},
     "output_type": "display_data"
    },
    {
     "name": "stdout",
     "output_type": "stream",
     "text": [
      "\n"
     ]
    },
    {
     "data": {
      "application/vnd.jupyter.widget-view+json": {
       "model_id": "138d5e8d808244e285edbc8b7666b0fc",
       "version_major": 2,
       "version_minor": 0
      },
      "text/plain": [
       "HBox(children=(IntProgress(value=0, description='VALID', max=1574, style=ProgressStyle(description_width='init…"
      ]
     },
     "metadata": {},
     "output_type": "display_data"
    },
    {
     "name": "stdout",
     "output_type": "stream",
     "text": [
      "\n",
      "dgnn Epoch 14: train_loss:  0.44 train_recall: 0.8700 train_precision: 0.8969  train_f1: 0.8679  valid_loss:  0.36  valid_recall: 0.8407 valid_precision: 0.9642 valid_f1: 0.8894\n",
      "EarlyStopping counter: 9 out of 10\n",
      "--------------------------------------------------------------------------------\n"
     ]
    },
    {
     "data": {
      "application/vnd.jupyter.widget-view+json": {
       "model_id": "14bf7b11da3545529357c8e235669ced",
       "version_major": 2,
       "version_minor": 0
      },
      "text/plain": [
       "HBox(children=(IntProgress(value=0, description='TRAIN', max=3378, style=ProgressStyle(description_width='init…"
      ]
     },
     "metadata": {},
     "output_type": "display_data"
    },
    {
     "name": "stdout",
     "output_type": "stream",
     "text": [
      "\n"
     ]
    },
    {
     "data": {
      "application/vnd.jupyter.widget-view+json": {
       "model_id": "de68f95c7d554afca378b24e5cf833fd",
       "version_major": 2,
       "version_minor": 0
      },
      "text/plain": [
       "HBox(children=(IntProgress(value=0, description='VALID', max=1574, style=ProgressStyle(description_width='init…"
      ]
     },
     "metadata": {},
     "output_type": "display_data"
    },
    {
     "name": "stdout",
     "output_type": "stream",
     "text": [
      "\n",
      "dgnn Epoch 15: train_loss:  0.44 train_recall: 0.8700 train_precision: 0.8969  train_f1: 0.8679  valid_loss:  0.36  valid_recall: 0.8407 valid_precision: 0.9642 valid_f1: 0.8894\n",
      "EarlyStopping counter: 10 out of 10\n",
      "dgnn Early stopping\n"
     ]
    }
   ],
   "source": [
    "for epoch in range(1, num_epoches + 1):\n",
    "    train_loss = 0.\n",
    "    train_refs = []\n",
    "    train_hyps = []\n",
    "    valid_loss = 0.\n",
    "    valid_refs = []\n",
    "    valid_hyps = []\n",
    "\n",
    "    # train\n",
    "    model.train()\n",
    "    for data in tqdm(train_loader, total=len(train_loader), desc='TRAIN'):\n",
    "        loss, gold, pred = compute_loss(data, model, optimizer, is_train=True)\n",
    "        # msgr.print_msg('train loss {}'.format(loss))\n",
    "        train_loss += loss\n",
    "        train_refs.append(gold)\n",
    "        train_hyps.append(pred)\n",
    "    \n",
    "\n",
    "    # valid\n",
    "    model.eval()\n",
    "    for data in tqdm(valid_loader, total=len(valid_loader), desc='VALID'):\n",
    "        loss, gold, pred = compute_loss(data, model, optimizer, is_train=False)\n",
    "        # msgr.print_msg('valid loss {}'.format(loss))\n",
    "        valid_loss += loss\n",
    "        valid_refs.append(gold)\n",
    "        valid_hyps.append(pred)\n",
    "    \n",
    "    \n",
    "    train_loss = np.sum(train_loss) / len(train_loader)\n",
    "    valid_loss = np.sum(valid_loss) / len(valid_loader)\n",
    "    \n",
    "    train_recall, train_precision, train_f1 = calculate(train_hyps, train_refs)\n",
    "    valid_recall, valid_precision, valid_f1 = calculate(valid_hyps, valid_refs)\n",
    "\n",
    "    # msgr.print_msg('train_hyps {}'.format(train_hyps[0]))\n",
    "    # msgr.print_msg('valid_hyps {}'.format(valid_hyps[0]))\n",
    "\n",
    "\n",
    "    msgr.print_msg('Epoch {}: train_loss: {:5.2f} train_recall: {:2.4f} train_precision: {:2.4f}  train_f1: {:2.4f}  valid_loss: {:5.2f}  valid_recall: {:2.4f} valid_precision: {:2.4f} valid_f1: {:2.4f}'.format(\n",
    "            epoch, train_loss, train_recall, train_precision, train_f1, valid_loss, valid_recall, valid_precision, valid_f1))\n",
    "    \n",
    "    early_stopping(valid_f1, model, epoch)\n",
    "    if early_stopping.early_stop:\n",
    "        msgr.print_msg(\"Early stopping\")\n",
    "        break  \n",
    "        \n",
    "    print('-'*80)\n",
    "    scheduler.step()\n"
   ]
  },
  {
   "cell_type": "markdown",
   "metadata": {},
   "source": [
    "Test"
   ]
  },
  {
   "cell_type": "code",
   "execution_count": null,
   "metadata": {},
   "outputs": [],
   "source": []
  }
 ],
 "metadata": {
  "interpreter": {
   "hash": "31f2aee4e71d21fbe5cf8b01ff0e069b9275f58929596ceb00d14d90e3e16cd6"
  },
  "kernelspec": {
   "display_name": "Python 3",
   "language": "python",
   "name": "python3"
  },
  "language_info": {
   "codemirror_mode": {
    "name": "ipython",
    "version": 3
   },
   "file_extension": ".py",
   "mimetype": "text/x-python",
   "name": "python",
   "nbconvert_exporter": "python",
   "pygments_lexer": "ipython3",
   "version": "3.6.9"
  }
 },
 "nbformat": 4,
 "nbformat_minor": 2
}
