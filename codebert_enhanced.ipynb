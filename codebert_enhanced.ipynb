{
 "cells": [
  {
   "cell_type": "code",
   "execution_count": 22,
   "source": [
    "import pandas as pd\n",
    "from transformers import RobertaTokenizer, RobertaConfig, RobertaModel, DataCollatorWithPadding\n",
    "import random\n",
    "from torch.utils.data import DataLoader"
   ],
   "outputs": [],
   "metadata": {}
  },
  {
   "cell_type": "code",
   "execution_count": 2,
   "source": [
    "raw_code_url = '/data/dataset/CodeXGLUE/Code-Code/Clone-detection-BigCloneBench/dataset/data_enhanced.jsonl'\n",
    "raw_code = pd.read_json(path_or_buf=raw_code_url, lines=True)\n",
    "raw_code = raw_code.set_index('idx')"
   ],
   "outputs": [],
   "metadata": {}
  },
  {
   "cell_type": "code",
   "execution_count": 19,
   "source": [
    "raw_code['ast_des'] = raw_code['ast'] + raw_code['description']\n",
    "raw_code"
   ],
   "outputs": [
    {
     "output_type": "execute_result",
     "data": {
      "text/plain": [
       "                                                       func  \\\n",
       "idx                                                           \n",
       "10000832      public static void main(String[] args) {\\n...   \n",
       "10005623      public synchronized String getSerialNumber...   \n",
       "10005624              public Object run() {\\n           ...   \n",
       "10005674      public String post() {\\n        if (conten...   \n",
       "10005879      @Override\\n    public void onCreate(Bundle...   \n",
       "...                                                     ...   \n",
       "9980885       private void verifyAvailability() {\\n     ...   \n",
       "9983757       public static void copyFiles(String strPat...   \n",
       "9983984       private String SHA1(String text) throws No...   \n",
       "9996334       public String generateToken(String code) {...   \n",
       "9996802       public static int copy(File src, int amoun...   \n",
       "\n",
       "                                                description  \\\n",
       "idx                                                           \n",
       "10000832  Throws a SecurityException if the calling thre...   \n",
       "10005623  Gets the next Request instance for which a res...   \n",
       "10005624  An abstract implementation of a calendar syste...   \n",
       "10005674  Gets a representation of the current choice as...   \n",
       "10005879  Hides the splash screen, closes the window, an...   \n",
       "...                                                     ...   \n",
       "9980885   Returns the current time in milliseconds.\\nCal...   \n",
       "9983757   Creates the directory named by this abstract p...   \n",
       "9983984   Deprecated.This method does not properly conve...   \n",
       "9996334   Creates an AlphaComposite object with the spec...   \n",
       "9996802   Hides the splash screen, closes the window, an...   \n",
       "\n",
       "                                                        ast  \\\n",
       "idx                                                           \n",
       "10000832  MethodDeclaration Modifier static public main ...   \n",
       "10005623  MethodDeclaration Modifier synchronized public...   \n",
       "10005624  MethodDeclaration Modifier public ReferenceTyp...   \n",
       "10005674  MethodDeclaration Modifier public ReferenceTyp...   \n",
       "10005879  MethodDeclaration Modifier public Annotation O...   \n",
       "...                                                     ...   \n",
       "9980885   MethodDeclaration Modifier private verifyAvail...   \n",
       "9983757   MethodDeclaration Modifier static public copyF...   \n",
       "9983984   MethodDeclaration Modifier private ReferenceTy...   \n",
       "9996334   MethodDeclaration Modifier public ReferenceTyp...   \n",
       "9996802   MethodDeclaration Modifier static public Basic...   \n",
       "\n",
       "                                                    ast_des  \n",
       "idx                                                          \n",
       "10000832  MethodDeclaration Modifier static public main ...  \n",
       "10005623  MethodDeclaration Modifier synchronized public...  \n",
       "10005624  MethodDeclaration Modifier public ReferenceTyp...  \n",
       "10005674  MethodDeclaration Modifier public ReferenceTyp...  \n",
       "10005879  MethodDeclaration Modifier public Annotation O...  \n",
       "...                                                     ...  \n",
       "9980885   MethodDeclaration Modifier private verifyAvail...  \n",
       "9983757   MethodDeclaration Modifier static public copyF...  \n",
       "9983984   MethodDeclaration Modifier private ReferenceTy...  \n",
       "9996334   MethodDeclaration Modifier public ReferenceTyp...  \n",
       "9996802   MethodDeclaration Modifier static public Basic...  \n",
       "\n",
       "[9126 rows x 4 columns]"
      ],
      "text/html": [
       "<div>\n",
       "<style scoped>\n",
       "    .dataframe tbody tr th:only-of-type {\n",
       "        vertical-align: middle;\n",
       "    }\n",
       "\n",
       "    .dataframe tbody tr th {\n",
       "        vertical-align: top;\n",
       "    }\n",
       "\n",
       "    .dataframe thead th {\n",
       "        text-align: right;\n",
       "    }\n",
       "</style>\n",
       "<table border=\"1\" class=\"dataframe\">\n",
       "  <thead>\n",
       "    <tr style=\"text-align: right;\">\n",
       "      <th></th>\n",
       "      <th>func</th>\n",
       "      <th>description</th>\n",
       "      <th>ast</th>\n",
       "      <th>ast_des</th>\n",
       "    </tr>\n",
       "    <tr>\n",
       "      <th>idx</th>\n",
       "      <th></th>\n",
       "      <th></th>\n",
       "      <th></th>\n",
       "      <th></th>\n",
       "    </tr>\n",
       "  </thead>\n",
       "  <tbody>\n",
       "    <tr>\n",
       "      <th>10000832</th>\n",
       "      <td>public static void main(String[] args) {\\n...</td>\n",
       "      <td>Throws a SecurityException if the calling thre...</td>\n",
       "      <td>MethodDeclaration Modifier static public main ...</td>\n",
       "      <td>MethodDeclaration Modifier static public main ...</td>\n",
       "    </tr>\n",
       "    <tr>\n",
       "      <th>10005623</th>\n",
       "      <td>public synchronized String getSerialNumber...</td>\n",
       "      <td>Gets the next Request instance for which a res...</td>\n",
       "      <td>MethodDeclaration Modifier synchronized public...</td>\n",
       "      <td>MethodDeclaration Modifier synchronized public...</td>\n",
       "    </tr>\n",
       "    <tr>\n",
       "      <th>10005624</th>\n",
       "      <td>public Object run() {\\n           ...</td>\n",
       "      <td>An abstract implementation of a calendar syste...</td>\n",
       "      <td>MethodDeclaration Modifier public ReferenceTyp...</td>\n",
       "      <td>MethodDeclaration Modifier public ReferenceTyp...</td>\n",
       "    </tr>\n",
       "    <tr>\n",
       "      <th>10005674</th>\n",
       "      <td>public String post() {\\n        if (conten...</td>\n",
       "      <td>Gets a representation of the current choice as...</td>\n",
       "      <td>MethodDeclaration Modifier public ReferenceTyp...</td>\n",
       "      <td>MethodDeclaration Modifier public ReferenceTyp...</td>\n",
       "    </tr>\n",
       "    <tr>\n",
       "      <th>10005879</th>\n",
       "      <td>@Override\\n    public void onCreate(Bundle...</td>\n",
       "      <td>Hides the splash screen, closes the window, an...</td>\n",
       "      <td>MethodDeclaration Modifier public Annotation O...</td>\n",
       "      <td>MethodDeclaration Modifier public Annotation O...</td>\n",
       "    </tr>\n",
       "    <tr>\n",
       "      <th>...</th>\n",
       "      <td>...</td>\n",
       "      <td>...</td>\n",
       "      <td>...</td>\n",
       "      <td>...</td>\n",
       "    </tr>\n",
       "    <tr>\n",
       "      <th>9980885</th>\n",
       "      <td>private void verifyAvailability() {\\n     ...</td>\n",
       "      <td>Returns the current time in milliseconds.\\nCal...</td>\n",
       "      <td>MethodDeclaration Modifier private verifyAvail...</td>\n",
       "      <td>MethodDeclaration Modifier private verifyAvail...</td>\n",
       "    </tr>\n",
       "    <tr>\n",
       "      <th>9983757</th>\n",
       "      <td>public static void copyFiles(String strPat...</td>\n",
       "      <td>Creates the directory named by this abstract p...</td>\n",
       "      <td>MethodDeclaration Modifier static public copyF...</td>\n",
       "      <td>MethodDeclaration Modifier static public copyF...</td>\n",
       "    </tr>\n",
       "    <tr>\n",
       "      <th>9983984</th>\n",
       "      <td>private String SHA1(String text) throws No...</td>\n",
       "      <td>Deprecated.This method does not properly conve...</td>\n",
       "      <td>MethodDeclaration Modifier private ReferenceTy...</td>\n",
       "      <td>MethodDeclaration Modifier private ReferenceTy...</td>\n",
       "    </tr>\n",
       "    <tr>\n",
       "      <th>9996334</th>\n",
       "      <td>public String generateToken(String code) {...</td>\n",
       "      <td>Creates an AlphaComposite object with the spec...</td>\n",
       "      <td>MethodDeclaration Modifier public ReferenceTyp...</td>\n",
       "      <td>MethodDeclaration Modifier public ReferenceTyp...</td>\n",
       "    </tr>\n",
       "    <tr>\n",
       "      <th>9996802</th>\n",
       "      <td>public static int copy(File src, int amoun...</td>\n",
       "      <td>Hides the splash screen, closes the window, an...</td>\n",
       "      <td>MethodDeclaration Modifier static public Basic...</td>\n",
       "      <td>MethodDeclaration Modifier static public Basic...</td>\n",
       "    </tr>\n",
       "  </tbody>\n",
       "</table>\n",
       "<p>9126 rows × 4 columns</p>\n",
       "</div>"
      ]
     },
     "metadata": {},
     "execution_count": 19
    }
   ],
   "metadata": {}
  },
  {
   "cell_type": "code",
   "execution_count": 54,
   "source": [
    "sum1 = 0\n",
    "num = 0\n",
    "for code in raw_code['ast_des']:\n",
    "    sum1 += len(code.split(' '))\n",
    "    num += 1\n",
    "print(sum1/num)"
   ],
   "outputs": [
    {
     "output_type": "stream",
     "name": "stdout",
     "text": [
      "341.20304624150776\n"
     ]
    }
   ],
   "metadata": {}
  },
  {
   "cell_type": "code",
   "execution_count": 17,
   "source": [
    "checkpoint = 'microsoft/codebert-base'\n",
    "tokenizer = RobertaTokenizer.from_pretrained(checkpoint)\n",
    "model = RobertaModel.from_pretrained(checkpoint)\n",
    "data_collator = DataCollatorWithPadding(tokenizer=tokenizer)"
   ],
   "outputs": [],
   "metadata": {}
  },
  {
   "cell_type": "code",
   "execution_count": 7,
   "source": [
    "raw_code_index = raw_code.index.tolist()\n",
    "\n",
    "over_length_ids = [10000832, 10151623, 10540676, 10690321, 10717656, 10793825, 10934628, 11339042, 11603577, 11940679, 12082150, 12119068, 12335897, 12352751, 12389873, 12415477, 12838273, 12838274, 12914531, 13099033, 13292215, 13292580, 13456795, 1349815, 13563706, 13586003, 13644040, 13650923, 13747998, 13776078, 13961100, 14020143, 14190765, 14310068, 14661394, 1477292, 14794142, 15295408, 15453012, 15723802, 15758923, 16002345, 16002347, 16006791, 16142591, 1637147, 16518661, 17314208, 17551920, 17573144, 17750515, 17829989, 17874921, 17917053, 18284812, 18433984, 18574455, 18790182, 18822890, 19074021, 19090289, 19276021, 19276022, 19340788, 19382420, 19434890, 19434892, 1944490, 19478367, 19556732, 1962490, 19634773, 19841853, 19942676, 20122631, 20275058, 2067794, 20833509, 20856391, 20885480, 21028028, 21161120, 21318345, 21493541, 2157431, 21652119, 22031237, 22033685, 22035132, 22114133, 22222255, 2235431, 2247987, 22580642, 22673614, 2285441, 23041161, 23094550, 23188198, 23248619, 23370708, 23510383, 23611768, 2450, 2476569, 2511576, 2769195, 2771573, 2771574, 285947, 2996859, 325062, 3375714, 3375715, 3375723, 3400236, 37044, 3867253, 416857, 4420769, 4494367, 4581365, 4660318, 4681906, 4780347, 4792385, 4854974, 5021563, 5189131, 5252227, 5389524, 5430189, 552318, 557726, 5620476, 564191, 5691586, 592597, 6008880, 6121196, 6147227, 6304372, 6304373, 6333737, 6403868, 6644748, 6961579, 6966398, 7005223, 7149578, 726690, 7300257, 7300264, 7300267, 733283, 7394826, 7665877, 7687037, 7727956, 793122, 8079516, 8109022, 8335944, 83802, 8581437, 8641070, 9050003, 9221721, 9261908, 9530015, 9581835, 961457, 9647574, 9687064, 9705209, 9782243, 979163, 98309, 98428, 9980609]\n",
    "# over_length_ids = [10690321, 10717656, 10793825, 11339042, 12119068, 12352751, 12415477, 13099033, 15723802, 1637147, 16518661, 17750515, 18822890, 19276021, 2067794, 20833509, 20856391, 20885480, 21028028, 22033685, 22035132, 2235431, 2247987, 22580642, 2285441, 23094550, 23248619, 2996859, 325062, 3375723, 3867253, 4494367, 4660318, 4780347, 5021563, 5189131, 5252227, 564191, 6147227, 7005223, 7300267, 793122, 8109022, 8581437, 9221721, 9647574, 98309]\n",
    "\n",
    "def read_ccd_pairs(url):\n",
    "    data = []\n",
    "    with open(url) as f:\n",
    "        for line in f:\n",
    "            line = line.strip()\n",
    "            id1, id2, label = line.split('\\t')\n",
    "            if int(id1) not in raw_code_index or int(id2) not in raw_code_index or int(id1) in over_length_ids or int(id2) in over_length_ids:\n",
    "                continue\n",
    "            label = 0 if label == '0' else 1\n",
    "            data.append((int(id1), int(id2), label))\n",
    "    return data"
   ],
   "outputs": [],
   "metadata": {}
  },
  {
   "cell_type": "code",
   "execution_count": 8,
   "source": [
    "train_url = '/data/dataset/CodeXGLUE/Code-Code/Clone-detection-BigCloneBench/dataset/train.txt'\n",
    "valid_url = '/data/dataset/CodeXGLUE/Code-Code/Clone-detection-BigCloneBench/dataset/test.txt'\n",
    "test_url = '/data/dataset/CodeXGLUE/Code-Code/Clone-detection-BigCloneBench/dataset/valid.txt'"
   ],
   "outputs": [],
   "metadata": {}
  },
  {
   "cell_type": "code",
   "execution_count": 9,
   "source": [
    "train_data = read_ccd_pairs(train_url)\n",
    "valid_data = read_ccd_pairs(valid_url)\n",
    "test_data = read_ccd_pairs(test_url)"
   ],
   "outputs": [],
   "metadata": {}
  },
  {
   "cell_type": "code",
   "execution_count": 12,
   "source": [
    "random.seed(666)\n",
    "train_data_small = random.sample(train_data, 10000)\n",
    "valid_data_small = random.sample(valid_data, 5000)\n",
    "test_data_small = random.sample(test_data, 5000)"
   ],
   "outputs": [],
   "metadata": {}
  },
  {
   "cell_type": "code",
   "execution_count": 36,
   "source": [
    "def get_raw_code(data):\n",
    "    code1 = []\n",
    "    code2 = []\n",
    "    label = []\n",
    "    for pair in data:\n",
    "        code1.append(raw_code['ast_des'][pair[0]])\n",
    "        # print(len(raw_code['ast_des'][pair[0]]))\n",
    "        code2.append(raw_code['ast_des'][pair[1]])\n",
    "        # print(len(raw_code['ast_des'][pair[1]]))\n",
    "        label.append(pair[2])\n",
    "    return {'code1': code1, 'code2': code2, 'label': label}"
   ],
   "outputs": [],
   "metadata": {}
  },
  {
   "cell_type": "code",
   "execution_count": null,
   "source": [
    "train_code = get_raw_code(train_data_small)\n",
    "valid_code = get_raw_code(valid_data_small)\n",
    "test_code = get_raw_code(test_data_small)"
   ],
   "outputs": [],
   "metadata": {}
  },
  {
   "cell_type": "code",
   "execution_count": 52,
   "source": [
    "length = []\n",
    "for ast_des in train_data['func']:\n",
    "    length.append(len(tokenizer(ast_des).input_ids))\n",
    "\n",
    "sum(length)/len(length)"
   ],
   "outputs": [
    {
     "output_type": "execute_result",
     "data": {
      "text/plain": [
       "786.974030243261"
      ]
     },
     "metadata": {},
     "execution_count": 52
    }
   ],
   "metadata": {}
  },
  {
   "cell_type": "code",
   "execution_count": 51,
   "source": [],
   "outputs": [
    {
     "output_type": "execute_result",
     "data": {
      "text/plain": [
       "702.0207100591716"
      ]
     },
     "metadata": {},
     "execution_count": 51
    }
   ],
   "metadata": {}
  },
  {
   "cell_type": "code",
   "execution_count": null,
   "source": [],
   "outputs": [],
   "metadata": {}
  }
 ],
 "metadata": {
  "orig_nbformat": 4,
  "language_info": {
   "name": "python",
   "version": "3.6.9",
   "mimetype": "text/x-python",
   "codemirror_mode": {
    "name": "ipython",
    "version": 3
   },
   "pygments_lexer": "ipython3",
   "nbconvert_exporter": "python",
   "file_extension": ".py"
  },
  "kernelspec": {
   "name": "python3",
   "display_name": "Python 3.6.9 64-bit"
  },
  "interpreter": {
   "hash": "31f2aee4e71d21fbe5cf8b01ff0e069b9275f58929596ceb00d14d90e3e16cd6"
  }
 },
 "nbformat": 4,
 "nbformat_minor": 2
}